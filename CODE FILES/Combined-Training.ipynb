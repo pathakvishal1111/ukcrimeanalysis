{
 "cells": [
  {
   "cell_type": "code",
   "execution_count": 1,
   "metadata": {},
   "outputs": [
    {
     "name": "stderr",
     "output_type": "stream",
     "text": [
      "C:\\py3\\lib\\site-packages\\sklearn\\linear_model\\least_angle.py:30: DeprecationWarning: `np.float` is a deprecated alias for the builtin `float`. To silence this warning, use `float` by itself. Doing this will not modify any behavior and is safe. If you specifically wanted the numpy scalar type, use `np.float64` here.\n",
      "Deprecated in NumPy 1.20; for more details and guidance: https://numpy.org/devdocs/release/1.20.0-notes.html#deprecations\n",
      "  method='lar', copy_X=True, eps=np.finfo(np.float).eps,\n",
      "C:\\py3\\lib\\site-packages\\sklearn\\linear_model\\least_angle.py:167: DeprecationWarning: `np.float` is a deprecated alias for the builtin `float`. To silence this warning, use `float` by itself. Doing this will not modify any behavior and is safe. If you specifically wanted the numpy scalar type, use `np.float64` here.\n",
      "Deprecated in NumPy 1.20; for more details and guidance: https://numpy.org/devdocs/release/1.20.0-notes.html#deprecations\n",
      "  method='lar', copy_X=True, eps=np.finfo(np.float).eps,\n",
      "C:\\py3\\lib\\site-packages\\sklearn\\linear_model\\least_angle.py:284: DeprecationWarning: `np.float` is a deprecated alias for the builtin `float`. To silence this warning, use `float` by itself. Doing this will not modify any behavior and is safe. If you specifically wanted the numpy scalar type, use `np.float64` here.\n",
      "Deprecated in NumPy 1.20; for more details and guidance: https://numpy.org/devdocs/release/1.20.0-notes.html#deprecations\n",
      "  eps=np.finfo(np.float).eps, copy_Gram=True, verbose=0,\n",
      "C:\\py3\\lib\\site-packages\\sklearn\\linear_model\\least_angle.py:862: DeprecationWarning: `np.float` is a deprecated alias for the builtin `float`. To silence this warning, use `float` by itself. Doing this will not modify any behavior and is safe. If you specifically wanted the numpy scalar type, use `np.float64` here.\n",
      "Deprecated in NumPy 1.20; for more details and guidance: https://numpy.org/devdocs/release/1.20.0-notes.html#deprecations\n",
      "  eps=np.finfo(np.float).eps, copy_X=True, fit_path=True,\n",
      "C:\\py3\\lib\\site-packages\\sklearn\\linear_model\\least_angle.py:1101: DeprecationWarning: `np.float` is a deprecated alias for the builtin `float`. To silence this warning, use `float` by itself. Doing this will not modify any behavior and is safe. If you specifically wanted the numpy scalar type, use `np.float64` here.\n",
      "Deprecated in NumPy 1.20; for more details and guidance: https://numpy.org/devdocs/release/1.20.0-notes.html#deprecations\n",
      "  eps=np.finfo(np.float).eps, copy_X=True, fit_path=True,\n",
      "C:\\py3\\lib\\site-packages\\sklearn\\linear_model\\least_angle.py:1127: DeprecationWarning: `np.float` is a deprecated alias for the builtin `float`. To silence this warning, use `float` by itself. Doing this will not modify any behavior and is safe. If you specifically wanted the numpy scalar type, use `np.float64` here.\n",
      "Deprecated in NumPy 1.20; for more details and guidance: https://numpy.org/devdocs/release/1.20.0-notes.html#deprecations\n",
      "  eps=np.finfo(np.float).eps, positive=False):\n",
      "C:\\py3\\lib\\site-packages\\sklearn\\linear_model\\least_angle.py:1362: DeprecationWarning: `np.float` is a deprecated alias for the builtin `float`. To silence this warning, use `float` by itself. Doing this will not modify any behavior and is safe. If you specifically wanted the numpy scalar type, use `np.float64` here.\n",
      "Deprecated in NumPy 1.20; for more details and guidance: https://numpy.org/devdocs/release/1.20.0-notes.html#deprecations\n",
      "  max_n_alphas=1000, n_jobs=None, eps=np.finfo(np.float).eps,\n",
      "C:\\py3\\lib\\site-packages\\sklearn\\linear_model\\least_angle.py:1602: DeprecationWarning: `np.float` is a deprecated alias for the builtin `float`. To silence this warning, use `float` by itself. Doing this will not modify any behavior and is safe. If you specifically wanted the numpy scalar type, use `np.float64` here.\n",
      "Deprecated in NumPy 1.20; for more details and guidance: https://numpy.org/devdocs/release/1.20.0-notes.html#deprecations\n",
      "  max_n_alphas=1000, n_jobs=None, eps=np.finfo(np.float).eps,\n",
      "C:\\py3\\lib\\site-packages\\sklearn\\linear_model\\least_angle.py:1738: DeprecationWarning: `np.float` is a deprecated alias for the builtin `float`. To silence this warning, use `float` by itself. Doing this will not modify any behavior and is safe. If you specifically wanted the numpy scalar type, use `np.float64` here.\n",
      "Deprecated in NumPy 1.20; for more details and guidance: https://numpy.org/devdocs/release/1.20.0-notes.html#deprecations\n",
      "  eps=np.finfo(np.float).eps, copy_X=True, positive=False):\n",
      "C:\\py3\\lib\\site-packages\\sklearn\\decomposition\\online_lda.py:29: DeprecationWarning: `np.float` is a deprecated alias for the builtin `float`. To silence this warning, use `float` by itself. Doing this will not modify any behavior and is safe. If you specifically wanted the numpy scalar type, use `np.float64` here.\n",
      "Deprecated in NumPy 1.20; for more details and guidance: https://numpy.org/devdocs/release/1.20.0-notes.html#deprecations\n",
      "  EPS = np.finfo(np.float).eps\n",
      "C:\\py3\\lib\\site-packages\\sklearn\\ensemble\\gradient_boosting.py:32: DeprecationWarning: `np.bool` is a deprecated alias for the builtin `bool`. To silence this warning, use `bool` by itself. Doing this will not modify any behavior and is safe. If you specifically wanted the numpy scalar type, use `np.bool_` here.\n",
      "Deprecated in NumPy 1.20; for more details and guidance: https://numpy.org/devdocs/release/1.20.0-notes.html#deprecations\n",
      "  from ._gradient_boosting import predict_stages\n",
      "C:\\py3\\lib\\site-packages\\sklearn\\ensemble\\gradient_boosting.py:32: DeprecationWarning: `np.bool` is a deprecated alias for the builtin `bool`. To silence this warning, use `bool` by itself. Doing this will not modify any behavior and is safe. If you specifically wanted the numpy scalar type, use `np.bool_` here.\n",
      "Deprecated in NumPy 1.20; for more details and guidance: https://numpy.org/devdocs/release/1.20.0-notes.html#deprecations\n",
      "  from ._gradient_boosting import predict_stages\n",
      "C:\\py3\\lib\\site-packages\\sklearn\\feature_extraction\\image.py:167: DeprecationWarning: `np.int` is a deprecated alias for the builtin `int`. To silence this warning, use `int` by itself. Doing this will not modify any behavior and is safe. When replacing `np.int`, you may wish to use e.g. `np.int64` or `np.int32` to specify the precision. If you wish to review your current use, check the release note link for additional information.\n",
      "Deprecated in NumPy 1.20; for more details and guidance: https://numpy.org/devdocs/release/1.20.0-notes.html#deprecations\n",
      "  dtype=np.int):\n",
      "Using TensorFlow backend.\n"
     ]
    }
   ],
   "source": [
    "\n",
    "import pandas as pd\n",
    "from shapely.geometry import  Point\n",
    "import geopandas as gpd\n",
    "import matplotlib.pyplot as plt\n",
    "import numpy as np\n",
    "from sklearn.impute import SimpleImputer\n",
    "from sklearn.preprocessing import LabelEncoder\n",
    "from sklearn.model_selection import train_test_split\n",
    "import seaborn as sns\n",
    "from matplotlib import cm\n",
    "import urllib.request\n",
    "import shutil\n",
    "import zipfile\n",
    "import os\n",
    "import re\n",
    "# import contextily as ctx\n",
    "# import geoplot as gplt\n",
    "import lightgbm as lgb\n",
    "import eli5\n",
    "from eli5.sklearn import PermutationImportance\n",
    "from lightgbm import LGBMClassifier\n",
    "from matplotlib import pyplot as plt\n",
    "from pdpbox import pdp, get_dataset, info_plots\n",
    "import shap\n",
    "from sklearn.svm import SVC\n",
    "from sklearn.linear_model import LogisticRegression\n",
    "\n",
    "from sklearn.linear_model import LogisticRegression\n",
    "from sklearn.svm import SVC\n",
    "from sklearn.neighbors import KNeighborsClassifier\n",
    "from sklearn.tree import DecisionTreeClassifier\n",
    "from sklearn.ensemble import RandomForestClassifier, GradientBoostingClassifier\n",
    "from lightgbm import LGBMClassifier\n",
    "from sklearn.model_selection import cross_validate\n",
    "from sklearn.preprocessing import LabelEncoder, StandardScaler\n",
    "from sklearn.linear_model import LogisticRegression\n",
    "from sklearn.pipeline import Pipeline\n",
    "from sklearn.model_selection import train_test_split\n",
    "from sklearn.metrics import accuracy_score"
   ]
  },
  {
   "cell_type": "code",
   "execution_count": 2,
   "metadata": {},
   "outputs": [
    {
     "data": {
      "text/html": [
       "<div>\n",
       "<style scoped>\n",
       "    .dataframe tbody tr th:only-of-type {\n",
       "        vertical-align: middle;\n",
       "    }\n",
       "\n",
       "    .dataframe tbody tr th {\n",
       "        vertical-align: top;\n",
       "    }\n",
       "\n",
       "    .dataframe thead th {\n",
       "        text-align: right;\n",
       "    }\n",
       "</style>\n",
       "<table border=\"1\" class=\"dataframe\">\n",
       "  <thead>\n",
       "    <tr style=\"text-align: right;\">\n",
       "      <th></th>\n",
       "      <th>Crime ID</th>\n",
       "      <th>Month</th>\n",
       "      <th>Reported by</th>\n",
       "      <th>Falls within</th>\n",
       "      <th>Longitude</th>\n",
       "      <th>Latitude</th>\n",
       "      <th>Location</th>\n",
       "      <th>LSOA code</th>\n",
       "      <th>LSOA name</th>\n",
       "      <th>Outcome type</th>\n",
       "    </tr>\n",
       "  </thead>\n",
       "  <tbody>\n",
       "    <tr>\n",
       "      <th>0</th>\n",
       "      <td>9e3762eec6e06435db4630b8cfecc43ce4ad7c791e5915...</td>\n",
       "      <td>2018-03</td>\n",
       "      <td>Avon and Somerset Constabulary</td>\n",
       "      <td>Avon and Somerset Constabulary</td>\n",
       "      <td>-2.502684</td>\n",
       "      <td>51.446260</td>\n",
       "      <td>On or near SKIPPON COURT</td>\n",
       "      <td>E01014920</td>\n",
       "      <td>South Gloucestershire 031E</td>\n",
       "      <td>Investigation complete; no suspect identified</td>\n",
       "    </tr>\n",
       "    <tr>\n",
       "      <th>1</th>\n",
       "      <td>9e3762eec6e06435db4630b8cfecc43ce4ad7c791e5915...</td>\n",
       "      <td>2018-03</td>\n",
       "      <td>Avon and Somerset Constabulary</td>\n",
       "      <td>Avon and Somerset Constabulary</td>\n",
       "      <td>-2.502684</td>\n",
       "      <td>51.446260</td>\n",
       "      <td>On or near SKIPPON COURT</td>\n",
       "      <td>E01014920</td>\n",
       "      <td>South Gloucestershire 031E</td>\n",
       "      <td>Suspect charged</td>\n",
       "    </tr>\n",
       "    <tr>\n",
       "      <th>2</th>\n",
       "      <td>093689e3248c259fb2a2bc57a7e3e12b3deb534b2da32a...</td>\n",
       "      <td>2018-03</td>\n",
       "      <td>Avon and Somerset Constabulary</td>\n",
       "      <td>Avon and Somerset Constabulary</td>\n",
       "      <td>-2.598622</td>\n",
       "      <td>51.493833</td>\n",
       "      <td>On or near CHERINGTON ROAD</td>\n",
       "      <td>E01014633</td>\n",
       "      <td>Bristol 004C</td>\n",
       "      <td>Unable to prosecute suspect</td>\n",
       "    </tr>\n",
       "    <tr>\n",
       "      <th>3</th>\n",
       "      <td>5469cc50f826f5b1c768236f024ad716223bfd4fd785fe...</td>\n",
       "      <td>2018-03</td>\n",
       "      <td>Avon and Somerset Constabulary</td>\n",
       "      <td>Avon and Somerset Constabulary</td>\n",
       "      <td>NaN</td>\n",
       "      <td>NaN</td>\n",
       "      <td>No location</td>\n",
       "      <td>NaN</td>\n",
       "      <td>NaN</td>\n",
       "      <td>Unable to prosecute suspect</td>\n",
       "    </tr>\n",
       "    <tr>\n",
       "      <th>4</th>\n",
       "      <td>089bfd1e2bc825b84527b168c53546914099ad45fa44b3...</td>\n",
       "      <td>2018-03</td>\n",
       "      <td>Avon and Somerset Constabulary</td>\n",
       "      <td>Avon and Somerset Constabulary</td>\n",
       "      <td>NaN</td>\n",
       "      <td>NaN</td>\n",
       "      <td>No location</td>\n",
       "      <td>NaN</td>\n",
       "      <td>NaN</td>\n",
       "      <td>Unable to prosecute suspect</td>\n",
       "    </tr>\n",
       "  </tbody>\n",
       "</table>\n",
       "</div>"
      ],
      "text/plain": [
       "                                            Crime ID    Month  \\\n",
       "0  9e3762eec6e06435db4630b8cfecc43ce4ad7c791e5915...  2018-03   \n",
       "1  9e3762eec6e06435db4630b8cfecc43ce4ad7c791e5915...  2018-03   \n",
       "2  093689e3248c259fb2a2bc57a7e3e12b3deb534b2da32a...  2018-03   \n",
       "3  5469cc50f826f5b1c768236f024ad716223bfd4fd785fe...  2018-03   \n",
       "4  089bfd1e2bc825b84527b168c53546914099ad45fa44b3...  2018-03   \n",
       "\n",
       "                      Reported by                    Falls within  Longitude  \\\n",
       "0  Avon and Somerset Constabulary  Avon and Somerset Constabulary  -2.502684   \n",
       "1  Avon and Somerset Constabulary  Avon and Somerset Constabulary  -2.502684   \n",
       "2  Avon and Somerset Constabulary  Avon and Somerset Constabulary  -2.598622   \n",
       "3  Avon and Somerset Constabulary  Avon and Somerset Constabulary        NaN   \n",
       "4  Avon and Somerset Constabulary  Avon and Somerset Constabulary        NaN   \n",
       "\n",
       "    Latitude                    Location  LSOA code  \\\n",
       "0  51.446260    On or near SKIPPON COURT  E01014920   \n",
       "1  51.446260    On or near SKIPPON COURT  E01014920   \n",
       "2  51.493833  On or near CHERINGTON ROAD  E01014633   \n",
       "3        NaN                 No location        NaN   \n",
       "4        NaN                 No location        NaN   \n",
       "\n",
       "                    LSOA name                                   Outcome type  \n",
       "0  South Gloucestershire 031E  Investigation complete; no suspect identified  \n",
       "1  South Gloucestershire 031E                                Suspect charged  \n",
       "2                Bristol 004C                    Unable to prosecute suspect  \n",
       "3                         NaN                    Unable to prosecute suspect  \n",
       "4                         NaN                    Unable to prosecute suspect  "
      ]
     },
     "execution_count": 2,
     "metadata": {},
     "output_type": "execute_result"
    }
   ],
   "source": [
    "#loading Dataset\n",
    "df = pd.read_csv(\"combined_outcomes.csv\")      \n",
    "df.head()"
   ]
  },
  {
   "cell_type": "code",
   "execution_count": 3,
   "metadata": {},
   "outputs": [
    {
     "name": "stdout",
     "output_type": "stream",
     "text": [
      "<class 'pandas.core.frame.DataFrame'>\n",
      "RangeIndex: 13013002 entries, 0 to 13013001\n",
      "Data columns (total 10 columns):\n",
      " #   Column        Dtype \n",
      "---  ------        ----- \n",
      " 0   Crime ID      object\n",
      " 1   Month         object\n",
      " 2   Reported by   object\n",
      " 3   Falls within  object\n",
      " 4   Longitude     object\n",
      " 5   Latitude      object\n",
      " 6   Location      object\n",
      " 7   LSOA code     object\n",
      " 8   LSOA name     object\n",
      " 9   Outcome type  object\n",
      "dtypes: object(10)\n",
      "memory usage: 992.8+ MB\n"
     ]
    }
   ],
   "source": [
    "#checking data information \n",
    "df.info()"
   ]
  },
  {
   "cell_type": "code",
   "execution_count": 4,
   "metadata": {},
   "outputs": [],
   "source": [
    "# cleaning data as every column will have column name (due to merging monthly data sets)\n",
    "df2 = df[df.Month!= 'Month']"
   ]
  },
  {
   "cell_type": "code",
   "execution_count": 5,
   "metadata": {
    "scrolled": true
   },
   "outputs": [
    {
     "name": "stdout",
     "output_type": "stream",
     "text": [
      "<class 'pandas.core.frame.DataFrame'>\n",
      "Int64Index: 13011476 entries, 0 to 13013001\n",
      "Data columns (total 10 columns):\n",
      " #   Column        Dtype \n",
      "---  ------        ----- \n",
      " 0   Crime ID      object\n",
      " 1   Month         object\n",
      " 2   Reported by   object\n",
      " 3   Falls within  object\n",
      " 4   Longitude     object\n",
      " 5   Latitude      object\n",
      " 6   Location      object\n",
      " 7   LSOA code     object\n",
      " 8   LSOA name     object\n",
      " 9   Outcome type  object\n",
      "dtypes: object(10)\n",
      "memory usage: 1.1+ GB\n"
     ]
    }
   ],
   "source": [
    "df2.info()"
   ]
  },
  {
   "cell_type": "code",
   "execution_count": 7,
   "metadata": {},
   "outputs": [
    {
     "data": {
      "text/plain": [
       "(13011476, 10)"
      ]
     },
     "execution_count": 7,
     "metadata": {},
     "output_type": "execute_result"
    }
   ],
   "source": [
    "#checking Shape of Data \n",
    "df2.shape[0] ,df2.shape[1]"
   ]
  },
  {
   "cell_type": "code",
   "execution_count": 8,
   "metadata": {},
   "outputs": [],
   "source": [
    "df2.rename(columns = {'LSOA code' :'LSOAcode' , 'LSOA name' : 'LSOAname' , 'Outcome type' :'Outcometype' ,'Falls within' : 'Fallswithin' ,'Reported by' : 'Reportedby','Crime ID': 'CrimeId' }, inplace = True)"
   ]
  },
  {
   "cell_type": "code",
   "execution_count": 9,
   "metadata": {},
   "outputs": [
    {
     "name": "stdout",
     "output_type": "stream",
     "text": [
      "<class 'pandas.core.frame.DataFrame'>\n",
      "Int64Index: 13011476 entries, 0 to 13013001\n",
      "Data columns (total 10 columns):\n",
      " #   Column       Dtype \n",
      "---  ------       ----- \n",
      " 0   CrimeId      object\n",
      " 1   Month        object\n",
      " 2   Reportedby   object\n",
      " 3   Fallswithin  object\n",
      " 4   Longitude    object\n",
      " 5   Latitude     object\n",
      " 6   Location     object\n",
      " 7   LSOAcode     object\n",
      " 8   LSOAname     object\n",
      " 9   Outcometype  object\n",
      "dtypes: object(10)\n",
      "memory usage: 1.1+ GB\n"
     ]
    }
   ],
   "source": [
    "df2.info()"
   ]
  },
  {
   "cell_type": "code",
   "execution_count": 10,
   "metadata": {},
   "outputs": [
    {
     "name": "stdout",
     "output_type": "stream",
     "text": [
      "<class 'pandas.core.frame.DataFrame'>\n",
      "Int64Index: 13011476 entries, 0 to 13013001\n",
      "Data columns (total 9 columns):\n",
      " #   Column       Dtype \n",
      "---  ------       ----- \n",
      " 0   Month        object\n",
      " 1   Reportedby   object\n",
      " 2   Fallswithin  object\n",
      " 3   Longitude    object\n",
      " 4   Latitude     object\n",
      " 5   Location     object\n",
      " 6   LSOAcode     object\n",
      " 7   LSOAname     object\n",
      " 8   Outcometype  object\n",
      "dtypes: object(9)\n",
      "memory usage: 992.7+ MB\n"
     ]
    }
   ],
   "source": [
    "# droping crime ID as its of no use \n",
    "df2.drop([ 'CrimeId'], axis=1 , inplace = True)\n",
    "df2.info()"
   ]
  },
  {
   "cell_type": "code",
   "execution_count": 11,
   "metadata": {},
   "outputs": [],
   "source": [
    "#data scleaning\n",
    "df2.Longitude = df2.Longitude.astype(float)\n",
    "df2.Latitude = df2.Latitude.astype(float)\n",
    "df2['Month'] = pd.to_datetime(df2.Month)\n",
    "df2['Location'] = df2.Location.astype('category')\n",
    "df2['Reportedby'] = df2.Reportedby.astype('category')\n",
    "df2['mon'] = pd.DatetimeIndex(df2['Month']).month"
   ]
  },
  {
   "cell_type": "code",
   "execution_count": 12,
   "metadata": {},
   "outputs": [
    {
     "data": {
      "text/plain": [
       "Metropolitan Police Service       1558833\n",
       "West Yorkshire Police              820532\n",
       "West Midlands Police               770350\n",
       "Kent Police                        538581\n",
       "Greater Manchester Police          474505\n",
       "Thames Valley Police               469243\n",
       "Essex Police                       464522\n",
       "Hampshire Constabulary             461255\n",
       "Merseyside Police                  408768\n",
       "South Yorkshire Police             376554\n",
       "Sussex Police                      339604\n",
       "Northumbria Police                 315435\n",
       "South Wales Police                 313067\n",
       "Nottinghamshire Police             304510\n",
       "Devon & Cornwall Police            279736\n",
       "Humberside Police                  279732\n",
       "Leicestershire Police              269210\n",
       "Avon and Somerset Constabulary     263054\n",
       "Staffordshire Police               259493\n",
       "Lancashire Constabulary            255492\n",
       "Cheshire Constabulary              242973\n",
       "West Mercia Police                 238631\n",
       "Hertfordshire Constabulary         234906\n",
       "Dorset Police                      222416\n",
       "Surrey Police                      220723\n",
       "Derbyshire Constabulary            217961\n",
       "Cleveland Police                   207896\n",
       "Durham Constabulary                191657\n",
       "Cambridgeshire Constabulary        188243\n",
       "Norfolk Constabulary               188126\n",
       "Northamptonshire Police            183307\n",
       "North Yorkshire Police             175037\n",
       "North Wales Police                 165477\n",
       "Suffolk Constabulary               160518\n",
       "Bedfordshire Police                155682\n",
       "Lincolnshire Police                153687\n",
       "Warwickshire Police                116736\n",
       "Wiltshire Police                   114346\n",
       "Cumbria Constabulary               112295\n",
       "Gloucestershire Constabulary       110930\n",
       "Gwent Police                       103554\n",
       "Dyfed-Powys Police                  66005\n",
       "City of London Police               17893\n",
       "Name: Fallswithin, dtype: int64"
      ]
     },
     "execution_count": 12,
     "metadata": {},
     "output_type": "execute_result"
    }
   ],
   "source": [
    "df2.Fallswithin.value_counts()"
   ]
  },
  {
   "cell_type": "code",
   "execution_count": 13,
   "metadata": {},
   "outputs": [],
   "source": [
    "df2['Fallswithin'] = df2.Fallswithin.astype('category')"
   ]
  },
  {
   "cell_type": "code",
   "execution_count": 14,
   "metadata": {},
   "outputs": [
    {
     "name": "stdout",
     "output_type": "stream",
     "text": [
      "<class 'pandas.core.frame.DataFrame'>\n",
      "Int64Index: 13011476 entries, 0 to 13013001\n",
      "Data columns (total 10 columns):\n",
      " #   Column       Dtype         \n",
      "---  ------       -----         \n",
      " 0   Month        datetime64[ns]\n",
      " 1   Reportedby   category      \n",
      " 2   Fallswithin  category      \n",
      " 3   Longitude    float64       \n",
      " 4   Latitude     float64       \n",
      " 5   Location     category      \n",
      " 6   LSOAcode     object        \n",
      " 7   LSOAname     object        \n",
      " 8   Outcometype  object        \n",
      " 9   mon          float64       \n",
      "dtypes: category(3), datetime64[ns](1), float64(3), object(3)\n",
      "memory usage: 878.6+ MB\n"
     ]
    }
   ],
   "source": [
    "df2.info()"
   ]
  },
  {
   "cell_type": "code",
   "execution_count": 15,
   "metadata": {},
   "outputs": [],
   "source": [
    "df2['LSOAcode'] = df2.LSOAcode.astype('str')"
   ]
  },
  {
   "cell_type": "code",
   "execution_count": 16,
   "metadata": {},
   "outputs": [
    {
     "name": "stdout",
     "output_type": "stream",
     "text": [
      "<class 'pandas.core.frame.DataFrame'>\n",
      "Int64Index: 13011476 entries, 0 to 13013001\n",
      "Data columns (total 10 columns):\n",
      " #   Column       Dtype         \n",
      "---  ------       -----         \n",
      " 0   Month        datetime64[ns]\n",
      " 1   Reportedby   category      \n",
      " 2   Fallswithin  category      \n",
      " 3   Longitude    float64       \n",
      " 4   Latitude     float64       \n",
      " 5   Location     category      \n",
      " 6   LSOAcode     object        \n",
      " 7   LSOAname     object        \n",
      " 8   Outcometype  object        \n",
      " 9   mon          float64       \n",
      "dtypes: category(3), datetime64[ns](1), float64(3), object(3)\n",
      "memory usage: 878.6+ MB\n"
     ]
    }
   ],
   "source": [
    "df2.info()"
   ]
  },
  {
   "cell_type": "code",
   "execution_count": 17,
   "metadata": {},
   "outputs": [
    {
     "data": {
      "text/plain": [
       "Leeds 111B                           18848\n",
       "Leicester 041A                       14217\n",
       "City of London 001F                  11863\n",
       "Birmingham 138A                      10730\n",
       "Derby 013F                           10004\n",
       "                                     ...  \n",
       "Gateshead 017B                          16\n",
       "Newham 034G                             13\n",
       "Central Bedfordshire 023B               12\n",
       "Northumberland 020C                     11\n",
       "Bath and North East Somerset 003A        8\n",
       "Name: LSOAname, Length: 34749, dtype: int64"
      ]
     },
     "execution_count": 17,
     "metadata": {},
     "output_type": "execute_result"
    }
   ],
   "source": [
    "df2.LSOAname.value_counts()"
   ]
  },
  {
   "cell_type": "code",
   "execution_count": 18,
   "metadata": {},
   "outputs": [
    {
     "name": "stdout",
     "output_type": "stream",
     "text": [
      "<class 'pandas.core.frame.DataFrame'>\n",
      "Int64Index: 13011476 entries, 0 to 13013001\n",
      "Data columns (total 10 columns):\n",
      " #   Column       Dtype         \n",
      "---  ------       -----         \n",
      " 0   Month        datetime64[ns]\n",
      " 1   Reportedby   category      \n",
      " 2   Fallswithin  category      \n",
      " 3   Longitude    float64       \n",
      " 4   Latitude     float64       \n",
      " 5   Location     category      \n",
      " 6   LSOAcode     object        \n",
      " 7   LSOAname     object        \n",
      " 8   Outcometype  object        \n",
      " 9   mon          float64       \n",
      "dtypes: category(3), datetime64[ns](1), float64(3), object(3)\n",
      "memory usage: 878.6+ MB\n"
     ]
    }
   ],
   "source": [
    "df2['LSOAcode'] = df2.LSOAcode.astype('str')\n",
    "df2.info()"
   ]
  },
  {
   "cell_type": "code",
   "execution_count": 19,
   "metadata": {},
   "outputs": [
    {
     "data": {
      "text/plain": [
       "Investigation complete; no suspect identified          5872720\n",
       "Unable to prosecute suspect                            4484440\n",
       "Suspect charged                                        1285339\n",
       "Local resolution                                        340140\n",
       "Offender given a caution                                197284\n",
       "Further investigation is not in the public interest     165937\n",
       "Action to be taken by another organisation              142628\n",
       "Formal action is not in the public interest             122210\n",
       "Offender sent to prison                                  75319\n",
       "Offender given community sentence                        58923\n",
       "Offender given a drugs possession warning                53094\n",
       "Offender given penalty notice                            36989\n",
       "Offender fined                                           33405\n",
       "Defendant found not guilty                               27810\n",
       "Offender given suspended prison sentence                 23315\n",
       "Offender given conditional discharge                     20188\n",
       "Court case unable to proceed                             19730\n",
       "Further action is not in the public interest             19046\n",
       "Suspect charged as part of another case                  13913\n",
       "Offender otherwise dealt with                             8043\n",
       "Offender ordered to pay compensation                      5900\n",
       "Offender deprived of property                             2385\n",
       "Defendant sent to Crown Court                             2205\n",
       "Offender given absolute discharge                          512\n",
       "Name: Outcometype, dtype: int64"
      ]
     },
     "execution_count": 19,
     "metadata": {},
     "output_type": "execute_result"
    }
   ],
   "source": [
    "df2.Outcometype.value_counts()"
   ]
  },
  {
   "cell_type": "code",
   "execution_count": 20,
   "metadata": {},
   "outputs": [
    {
     "name": "stdout",
     "output_type": "stream",
     "text": [
      "<class 'pandas.core.frame.DataFrame'>\n",
      "Int64Index: 13011476 entries, 0 to 13013001\n",
      "Data columns (total 10 columns):\n",
      " #   Column       Dtype         \n",
      "---  ------       -----         \n",
      " 0   Month        datetime64[ns]\n",
      " 1   Reportedby   category      \n",
      " 2   Fallswithin  category      \n",
      " 3   Longitude    float64       \n",
      " 4   Latitude     float64       \n",
      " 5   Location     category      \n",
      " 6   LSOAcode     object        \n",
      " 7   LSOAname     object        \n",
      " 8   Outcometype  object        \n",
      " 9   mon          float64       \n",
      "dtypes: category(3), datetime64[ns](1), float64(3), object(3)\n",
      "memory usage: 878.6+ MB\n"
     ]
    }
   ],
   "source": [
    "df2.info()"
   ]
  },
  {
   "cell_type": "code",
   "execution_count": 21,
   "metadata": {},
   "outputs": [
    {
     "data": {
      "text/html": [
       "<div>\n",
       "<style scoped>\n",
       "    .dataframe tbody tr th:only-of-type {\n",
       "        vertical-align: middle;\n",
       "    }\n",
       "\n",
       "    .dataframe tbody tr th {\n",
       "        vertical-align: top;\n",
       "    }\n",
       "\n",
       "    .dataframe thead th {\n",
       "        text-align: right;\n",
       "    }\n",
       "</style>\n",
       "<table border=\"1\" class=\"dataframe\">\n",
       "  <thead>\n",
       "    <tr style=\"text-align: right;\">\n",
       "      <th></th>\n",
       "      <th>Month</th>\n",
       "      <th>Reportedby</th>\n",
       "      <th>Fallswithin</th>\n",
       "      <th>Longitude</th>\n",
       "      <th>Latitude</th>\n",
       "      <th>Location</th>\n",
       "      <th>LSOAcode</th>\n",
       "      <th>LSOAname</th>\n",
       "      <th>Outcometype</th>\n",
       "      <th>mon</th>\n",
       "    </tr>\n",
       "  </thead>\n",
       "  <tbody>\n",
       "    <tr>\n",
       "      <th>0</th>\n",
       "      <td>2018-03-01</td>\n",
       "      <td>Avon and Somerset Constabulary</td>\n",
       "      <td>Avon and Somerset Constabulary</td>\n",
       "      <td>-2.502684</td>\n",
       "      <td>51.446260</td>\n",
       "      <td>On or near SKIPPON COURT</td>\n",
       "      <td>E01014920</td>\n",
       "      <td>South Gloucestershire 031E</td>\n",
       "      <td>Investigation complete; no suspect identified</td>\n",
       "      <td>3.0</td>\n",
       "    </tr>\n",
       "    <tr>\n",
       "      <th>1</th>\n",
       "      <td>2018-03-01</td>\n",
       "      <td>Avon and Somerset Constabulary</td>\n",
       "      <td>Avon and Somerset Constabulary</td>\n",
       "      <td>-2.502684</td>\n",
       "      <td>51.446260</td>\n",
       "      <td>On or near SKIPPON COURT</td>\n",
       "      <td>E01014920</td>\n",
       "      <td>South Gloucestershire 031E</td>\n",
       "      <td>Suspect charged</td>\n",
       "      <td>3.0</td>\n",
       "    </tr>\n",
       "    <tr>\n",
       "      <th>2</th>\n",
       "      <td>2018-03-01</td>\n",
       "      <td>Avon and Somerset Constabulary</td>\n",
       "      <td>Avon and Somerset Constabulary</td>\n",
       "      <td>-2.598622</td>\n",
       "      <td>51.493833</td>\n",
       "      <td>On or near CHERINGTON ROAD</td>\n",
       "      <td>E01014633</td>\n",
       "      <td>Bristol 004C</td>\n",
       "      <td>Unable to prosecute suspect</td>\n",
       "      <td>3.0</td>\n",
       "    </tr>\n",
       "    <tr>\n",
       "      <th>3</th>\n",
       "      <td>2018-03-01</td>\n",
       "      <td>Avon and Somerset Constabulary</td>\n",
       "      <td>Avon and Somerset Constabulary</td>\n",
       "      <td>NaN</td>\n",
       "      <td>NaN</td>\n",
       "      <td>No location</td>\n",
       "      <td>nan</td>\n",
       "      <td>NaN</td>\n",
       "      <td>Unable to prosecute suspect</td>\n",
       "      <td>3.0</td>\n",
       "    </tr>\n",
       "    <tr>\n",
       "      <th>4</th>\n",
       "      <td>2018-03-01</td>\n",
       "      <td>Avon and Somerset Constabulary</td>\n",
       "      <td>Avon and Somerset Constabulary</td>\n",
       "      <td>NaN</td>\n",
       "      <td>NaN</td>\n",
       "      <td>No location</td>\n",
       "      <td>nan</td>\n",
       "      <td>NaN</td>\n",
       "      <td>Unable to prosecute suspect</td>\n",
       "      <td>3.0</td>\n",
       "    </tr>\n",
       "  </tbody>\n",
       "</table>\n",
       "</div>"
      ],
      "text/plain": [
       "       Month                      Reportedby                     Fallswithin  \\\n",
       "0 2018-03-01  Avon and Somerset Constabulary  Avon and Somerset Constabulary   \n",
       "1 2018-03-01  Avon and Somerset Constabulary  Avon and Somerset Constabulary   \n",
       "2 2018-03-01  Avon and Somerset Constabulary  Avon and Somerset Constabulary   \n",
       "3 2018-03-01  Avon and Somerset Constabulary  Avon and Somerset Constabulary   \n",
       "4 2018-03-01  Avon and Somerset Constabulary  Avon and Somerset Constabulary   \n",
       "\n",
       "   Longitude   Latitude                    Location   LSOAcode  \\\n",
       "0  -2.502684  51.446260    On or near SKIPPON COURT  E01014920   \n",
       "1  -2.502684  51.446260    On or near SKIPPON COURT  E01014920   \n",
       "2  -2.598622  51.493833  On or near CHERINGTON ROAD  E01014633   \n",
       "3        NaN        NaN                 No location        nan   \n",
       "4        NaN        NaN                 No location        nan   \n",
       "\n",
       "                     LSOAname                                    Outcometype  \\\n",
       "0  South Gloucestershire 031E  Investigation complete; no suspect identified   \n",
       "1  South Gloucestershire 031E                                Suspect charged   \n",
       "2                Bristol 004C                    Unable to prosecute suspect   \n",
       "3                         NaN                    Unable to prosecute suspect   \n",
       "4                         NaN                    Unable to prosecute suspect   \n",
       "\n",
       "   mon  \n",
       "0  3.0  \n",
       "1  3.0  \n",
       "2  3.0  \n",
       "3  3.0  \n",
       "4  3.0  "
      ]
     },
     "execution_count": 21,
     "metadata": {},
     "output_type": "execute_result"
    }
   ],
   "source": [
    "df2.head(5)"
   ]
  },
  {
   "cell_type": "code",
   "execution_count": 22,
   "metadata": {},
   "outputs": [],
   "source": [
    "#function for plotting cordinates\n",
    "def create_gdf(df):\n",
    "    gdf = df.copy()\n",
    "    gdf['Coordinates'] = list(zip(gdf.Latitude, gdf.Longitude))\n",
    "    gdf.Coordinates = gdf.Coordinates.apply(Point)\n",
    "    gdf = gpd.GeoDataFrame(\n",
    "        gdf, geometry='Coordinates', crs={'init': 'epsg:4326'})\n",
    "    return gdf"
   ]
  },
  {
   "cell_type": "code",
   "execution_count": 23,
   "metadata": {},
   "outputs": [],
   "source": [
    "df2.drop_duplicates(inplace=True)"
   ]
  },
  {
   "cell_type": "code",
   "execution_count": null,
   "metadata": {},
   "outputs": [],
   "source": []
  },
  {
   "cell_type": "code",
   "execution_count": 24,
   "metadata": {},
   "outputs": [],
   "source": [
    "# train_gdf = create_gdf(df2)\n",
    "# world = gpd.read_file(gpd.datasets.get_path('naturalearth_lowres'))\n",
    "# ax = world.plot(color='white', edgecolor='black')\n",
    "# train_gdf.plot(ax=ax, color='red')\n",
    "# plt.show()"
   ]
  },
  {
   "cell_type": "code",
   "execution_count": 25,
   "metadata": {},
   "outputs": [],
   "source": [
    "df2.replace({'Latitude': 51.5095, 'Longitude': -0.1245}, np.NaN, inplace=True)"
   ]
  },
  {
   "cell_type": "code",
   "execution_count": 26,
   "metadata": {},
   "outputs": [],
   "source": [
    "df2.dropna(inplace = True)"
   ]
  },
  {
   "cell_type": "code",
   "execution_count": 27,
   "metadata": {},
   "outputs": [
    {
     "name": "stdout",
     "output_type": "stream",
     "text": [
      "<class 'pandas.core.frame.DataFrame'>\n",
      "Int64Index: 8157257 entries, 0 to 13012998\n",
      "Data columns (total 10 columns):\n",
      " #   Column       Dtype         \n",
      "---  ------       -----         \n",
      " 0   Month        datetime64[ns]\n",
      " 1   Reportedby   category      \n",
      " 2   Fallswithin  category      \n",
      " 3   Longitude    float64       \n",
      " 4   Latitude     float64       \n",
      " 5   Location     category      \n",
      " 6   LSOAcode     object        \n",
      " 7   LSOAname     object        \n",
      " 8   Outcometype  object        \n",
      " 9   mon          float64       \n",
      "dtypes: category(3), datetime64[ns](1), float64(3), object(3)\n",
      "memory usage: 554.5+ MB\n"
     ]
    }
   ],
   "source": [
    "df2.info()"
   ]
  },
  {
   "cell_type": "markdown",
   "metadata": {},
   "source": [
    "df2.head(5)"
   ]
  },
  {
   "cell_type": "code",
   "execution_count": 28,
   "metadata": {},
   "outputs": [
    {
     "data": {
      "text/html": [
       "<div>\n",
       "<style scoped>\n",
       "    .dataframe tbody tr th:only-of-type {\n",
       "        vertical-align: middle;\n",
       "    }\n",
       "\n",
       "    .dataframe tbody tr th {\n",
       "        vertical-align: top;\n",
       "    }\n",
       "\n",
       "    .dataframe thead th {\n",
       "        text-align: right;\n",
       "    }\n",
       "</style>\n",
       "<table border=\"1\" class=\"dataframe\">\n",
       "  <thead>\n",
       "    <tr style=\"text-align: right;\">\n",
       "      <th></th>\n",
       "      <th>Month</th>\n",
       "      <th>Reportedby</th>\n",
       "      <th>Fallswithin</th>\n",
       "      <th>Longitude</th>\n",
       "      <th>Latitude</th>\n",
       "      <th>Location</th>\n",
       "      <th>LSOAcode</th>\n",
       "      <th>LSOAname</th>\n",
       "      <th>Outcometype</th>\n",
       "      <th>mon</th>\n",
       "    </tr>\n",
       "  </thead>\n",
       "  <tbody>\n",
       "    <tr>\n",
       "      <th>0</th>\n",
       "      <td>2018-03-01</td>\n",
       "      <td>Avon and Somerset Constabulary</td>\n",
       "      <td>Avon and Somerset Constabulary</td>\n",
       "      <td>-2.502684</td>\n",
       "      <td>51.446260</td>\n",
       "      <td>On or near SKIPPON COURT</td>\n",
       "      <td>E01014920</td>\n",
       "      <td>South Gloucestershire 031E</td>\n",
       "      <td>Investigation complete; no suspect identified</td>\n",
       "      <td>3.0</td>\n",
       "    </tr>\n",
       "    <tr>\n",
       "      <th>1</th>\n",
       "      <td>2018-03-01</td>\n",
       "      <td>Avon and Somerset Constabulary</td>\n",
       "      <td>Avon and Somerset Constabulary</td>\n",
       "      <td>-2.502684</td>\n",
       "      <td>51.446260</td>\n",
       "      <td>On or near SKIPPON COURT</td>\n",
       "      <td>E01014920</td>\n",
       "      <td>South Gloucestershire 031E</td>\n",
       "      <td>Suspect charged</td>\n",
       "      <td>3.0</td>\n",
       "    </tr>\n",
       "    <tr>\n",
       "      <th>2</th>\n",
       "      <td>2018-03-01</td>\n",
       "      <td>Avon and Somerset Constabulary</td>\n",
       "      <td>Avon and Somerset Constabulary</td>\n",
       "      <td>-2.598622</td>\n",
       "      <td>51.493833</td>\n",
       "      <td>On or near CHERINGTON ROAD</td>\n",
       "      <td>E01014633</td>\n",
       "      <td>Bristol 004C</td>\n",
       "      <td>Unable to prosecute suspect</td>\n",
       "      <td>3.0</td>\n",
       "    </tr>\n",
       "    <tr>\n",
       "      <th>8</th>\n",
       "      <td>2018-03-01</td>\n",
       "      <td>Avon and Somerset Constabulary</td>\n",
       "      <td>Avon and Somerset Constabulary</td>\n",
       "      <td>-2.893176</td>\n",
       "      <td>50.854161</td>\n",
       "      <td>On or near BAKERSFIELD</td>\n",
       "      <td>E01029230</td>\n",
       "      <td>South Somerset 024D</td>\n",
       "      <td>Unable to prosecute suspect</td>\n",
       "      <td>3.0</td>\n",
       "    </tr>\n",
       "    <tr>\n",
       "      <th>22</th>\n",
       "      <td>2018-03-01</td>\n",
       "      <td>Avon and Somerset Constabulary</td>\n",
       "      <td>Avon and Somerset Constabulary</td>\n",
       "      <td>-2.498926</td>\n",
       "      <td>51.472468</td>\n",
       "      <td>On or near SWEETS ROAD</td>\n",
       "      <td>E01014956</td>\n",
       "      <td>South Gloucestershire 025B</td>\n",
       "      <td>Unable to prosecute suspect</td>\n",
       "      <td>3.0</td>\n",
       "    </tr>\n",
       "  </tbody>\n",
       "</table>\n",
       "</div>"
      ],
      "text/plain": [
       "        Month                      Reportedby                     Fallswithin  \\\n",
       "0  2018-03-01  Avon and Somerset Constabulary  Avon and Somerset Constabulary   \n",
       "1  2018-03-01  Avon and Somerset Constabulary  Avon and Somerset Constabulary   \n",
       "2  2018-03-01  Avon and Somerset Constabulary  Avon and Somerset Constabulary   \n",
       "8  2018-03-01  Avon and Somerset Constabulary  Avon and Somerset Constabulary   \n",
       "22 2018-03-01  Avon and Somerset Constabulary  Avon and Somerset Constabulary   \n",
       "\n",
       "    Longitude   Latitude                    Location   LSOAcode  \\\n",
       "0   -2.502684  51.446260    On or near SKIPPON COURT  E01014920   \n",
       "1   -2.502684  51.446260    On or near SKIPPON COURT  E01014920   \n",
       "2   -2.598622  51.493833  On or near CHERINGTON ROAD  E01014633   \n",
       "8   -2.893176  50.854161      On or near BAKERSFIELD  E01029230   \n",
       "22  -2.498926  51.472468      On or near SWEETS ROAD  E01014956   \n",
       "\n",
       "                      LSOAname                                    Outcometype  \\\n",
       "0   South Gloucestershire 031E  Investigation complete; no suspect identified   \n",
       "1   South Gloucestershire 031E                                Suspect charged   \n",
       "2                 Bristol 004C                    Unable to prosecute suspect   \n",
       "8          South Somerset 024D                    Unable to prosecute suspect   \n",
       "22  South Gloucestershire 025B                    Unable to prosecute suspect   \n",
       "\n",
       "    mon  \n",
       "0   3.0  \n",
       "1   3.0  \n",
       "2   3.0  \n",
       "8   3.0  \n",
       "22  3.0  "
      ]
     },
     "execution_count": 28,
     "metadata": {},
     "output_type": "execute_result"
    }
   ],
   "source": [
    "df2.head(5)"
   ]
  },
  {
   "cell_type": "code",
   "execution_count": 29,
   "metadata": {},
   "outputs": [
    {
     "data": {
      "text/plain": [
       "(8157257, 10)"
      ]
     },
     "execution_count": 29,
     "metadata": {},
     "output_type": "execute_result"
    }
   ],
   "source": [
    "df2.shape[0] ,df2.shape[1]"
   ]
  },
  {
   "cell_type": "code",
   "execution_count": 30,
   "metadata": {},
   "outputs": [
    {
     "data": {
      "text/plain": [
       "Investigation complete; no suspect identified          3553708\n",
       "Unable to prosecute suspect                            2777763\n",
       "Suspect charged                                         748895\n",
       "Local resolution                                        264270\n",
       "Offender given a caution                                153702\n",
       "Further investigation is not in the public interest     133519\n",
       "Action to be taken by another organisation              103645\n",
       "Formal action is not in the public interest              96940\n",
       "Offender sent to prison                                  54172\n",
       "Offender given a drugs possession warning                46481\n",
       "Offender given community sentence                        45828\n",
       "Offender given penalty notice                            33022\n",
       "Offender fined                                           29199\n",
       "Defendant found not guilty                               23494\n",
       "Offender given suspended prison sentence                 18551\n",
       "Offender given conditional discharge                     17242\n",
       "Court case unable to proceed                             16991\n",
       "Further action is not in the public interest             14511\n",
       "Suspect charged as part of another case                   8960\n",
       "Offender otherwise dealt with                             6838\n",
       "Offender ordered to pay compensation                      5032\n",
       "Offender deprived of property                             2234\n",
       "Defendant sent to Crown Court                             1815\n",
       "Offender given absolute discharge                          445\n",
       "Name: Outcometype, dtype: int64"
      ]
     },
     "execution_count": 30,
     "metadata": {},
     "output_type": "execute_result"
    }
   ],
   "source": [
    "df2.Outcometype.value_counts()"
   ]
  },
  {
   "cell_type": "code",
   "execution_count": 31,
   "metadata": {},
   "outputs": [],
   "source": [
    "#creating outcome data as categorical\n",
    "df2['Outcometype'].replace(['Suspect charged', 'Local resolution', 'Action to be taken by another organisation' ,'Offender sent to prison','Offender given a drugs possession warning','Offender given community sentence','Offender given penalty notice','Offender fined','Offender given suspended prison sentence','Suspect charged as part of another case','Offender otherwise dealt with','Offender ordered to pay compensation','Offender deprived of property','Defendant sent to Crown Court' ], 1, inplace = True)"
   ]
  },
  {
   "cell_type": "code",
   "execution_count": 32,
   "metadata": {},
   "outputs": [],
   "source": [
    "df2['Outcometype'].replace(['Investigation complete; no suspect identified', 'Unable to prosecute suspect','Offender given a caution','Further investigation is not in the public interest','Formal action is not in the public interest','Defendant found not guilty','Offender given conditional discharge','Court case unable to proceed','Further action is not in the public interest','Offender given absolute discharge'], 0, inplace = True)"
   ]
  },
  {
   "cell_type": "code",
   "execution_count": 33,
   "metadata": {},
   "outputs": [
    {
     "data": {
      "text/plain": [
       "0    6788315\n",
       "1    1368942\n",
       "Name: Outcometype, dtype: int64"
      ]
     },
     "execution_count": 33,
     "metadata": {},
     "output_type": "execute_result"
    }
   ],
   "source": [
    "df2.Outcometype.value_counts()"
   ]
  },
  {
   "cell_type": "code",
   "execution_count": 34,
   "metadata": {},
   "outputs": [],
   "source": [
    "df2['Year'] = df2['Month'].dt.year"
   ]
  },
  {
   "cell_type": "code",
   "execution_count": 35,
   "metadata": {},
   "outputs": [
    {
     "name": "stdout",
     "output_type": "stream",
     "text": [
      "<class 'pandas.core.frame.DataFrame'>\n",
      "Int64Index: 8157257 entries, 0 to 13012998\n",
      "Data columns (total 11 columns):\n",
      " #   Column       Dtype         \n",
      "---  ------       -----         \n",
      " 0   Month        datetime64[ns]\n",
      " 1   Reportedby   category      \n",
      " 2   Fallswithin  category      \n",
      " 3   Longitude    float64       \n",
      " 4   Latitude     float64       \n",
      " 5   Location     category      \n",
      " 6   LSOAcode     object        \n",
      " 7   LSOAname     object        \n",
      " 8   Outcometype  int64         \n",
      " 9   mon          float64       \n",
      " 10  Year         int64         \n",
      "dtypes: category(3), datetime64[ns](1), float64(3), int64(2), object(2)\n",
      "memory usage: 616.7+ MB\n"
     ]
    }
   ],
   "source": [
    "df2.info()"
   ]
  },
  {
   "cell_type": "code",
   "execution_count": 36,
   "metadata": {},
   "outputs": [],
   "source": [
    "df2['Block'] = df2['Location'].str.contains('block', case=False)"
   ]
  },
  {
   "cell_type": "code",
   "execution_count": 37,
   "metadata": {},
   "outputs": [
    {
     "data": {
      "text/html": [
       "<div>\n",
       "<style scoped>\n",
       "    .dataframe tbody tr th:only-of-type {\n",
       "        vertical-align: middle;\n",
       "    }\n",
       "\n",
       "    .dataframe tbody tr th {\n",
       "        vertical-align: top;\n",
       "    }\n",
       "\n",
       "    .dataframe thead th {\n",
       "        text-align: right;\n",
       "    }\n",
       "</style>\n",
       "<table border=\"1\" class=\"dataframe\">\n",
       "  <thead>\n",
       "    <tr style=\"text-align: right;\">\n",
       "      <th></th>\n",
       "      <th>Month</th>\n",
       "      <th>Reportedby</th>\n",
       "      <th>Fallswithin</th>\n",
       "      <th>Longitude</th>\n",
       "      <th>Latitude</th>\n",
       "      <th>Location</th>\n",
       "      <th>LSOAcode</th>\n",
       "      <th>LSOAname</th>\n",
       "      <th>Outcometype</th>\n",
       "      <th>mon</th>\n",
       "      <th>Year</th>\n",
       "      <th>Block</th>\n",
       "    </tr>\n",
       "  </thead>\n",
       "  <tbody>\n",
       "    <tr>\n",
       "      <th>0</th>\n",
       "      <td>2018-03-01</td>\n",
       "      <td>Avon and Somerset Constabulary</td>\n",
       "      <td>Avon and Somerset Constabulary</td>\n",
       "      <td>-2.502684</td>\n",
       "      <td>51.446260</td>\n",
       "      <td>On or near SKIPPON COURT</td>\n",
       "      <td>E01014920</td>\n",
       "      <td>South Gloucestershire 031E</td>\n",
       "      <td>0</td>\n",
       "      <td>3.0</td>\n",
       "      <td>2018</td>\n",
       "      <td>False</td>\n",
       "    </tr>\n",
       "    <tr>\n",
       "      <th>1</th>\n",
       "      <td>2018-03-01</td>\n",
       "      <td>Avon and Somerset Constabulary</td>\n",
       "      <td>Avon and Somerset Constabulary</td>\n",
       "      <td>-2.502684</td>\n",
       "      <td>51.446260</td>\n",
       "      <td>On or near SKIPPON COURT</td>\n",
       "      <td>E01014920</td>\n",
       "      <td>South Gloucestershire 031E</td>\n",
       "      <td>1</td>\n",
       "      <td>3.0</td>\n",
       "      <td>2018</td>\n",
       "      <td>False</td>\n",
       "    </tr>\n",
       "    <tr>\n",
       "      <th>2</th>\n",
       "      <td>2018-03-01</td>\n",
       "      <td>Avon and Somerset Constabulary</td>\n",
       "      <td>Avon and Somerset Constabulary</td>\n",
       "      <td>-2.598622</td>\n",
       "      <td>51.493833</td>\n",
       "      <td>On or near CHERINGTON ROAD</td>\n",
       "      <td>E01014633</td>\n",
       "      <td>Bristol 004C</td>\n",
       "      <td>0</td>\n",
       "      <td>3.0</td>\n",
       "      <td>2018</td>\n",
       "      <td>False</td>\n",
       "    </tr>\n",
       "    <tr>\n",
       "      <th>8</th>\n",
       "      <td>2018-03-01</td>\n",
       "      <td>Avon and Somerset Constabulary</td>\n",
       "      <td>Avon and Somerset Constabulary</td>\n",
       "      <td>-2.893176</td>\n",
       "      <td>50.854161</td>\n",
       "      <td>On or near BAKERSFIELD</td>\n",
       "      <td>E01029230</td>\n",
       "      <td>South Somerset 024D</td>\n",
       "      <td>0</td>\n",
       "      <td>3.0</td>\n",
       "      <td>2018</td>\n",
       "      <td>False</td>\n",
       "    </tr>\n",
       "    <tr>\n",
       "      <th>22</th>\n",
       "      <td>2018-03-01</td>\n",
       "      <td>Avon and Somerset Constabulary</td>\n",
       "      <td>Avon and Somerset Constabulary</td>\n",
       "      <td>-2.498926</td>\n",
       "      <td>51.472468</td>\n",
       "      <td>On or near SWEETS ROAD</td>\n",
       "      <td>E01014956</td>\n",
       "      <td>South Gloucestershire 025B</td>\n",
       "      <td>0</td>\n",
       "      <td>3.0</td>\n",
       "      <td>2018</td>\n",
       "      <td>False</td>\n",
       "    </tr>\n",
       "    <tr>\n",
       "      <th>36</th>\n",
       "      <td>2018-03-01</td>\n",
       "      <td>Avon and Somerset Constabulary</td>\n",
       "      <td>Avon and Somerset Constabulary</td>\n",
       "      <td>-2.744599</td>\n",
       "      <td>50.947449</td>\n",
       "      <td>On or near Parking Area</td>\n",
       "      <td>E01029191</td>\n",
       "      <td>South Somerset 017C</td>\n",
       "      <td>0</td>\n",
       "      <td>3.0</td>\n",
       "      <td>2018</td>\n",
       "      <td>False</td>\n",
       "    </tr>\n",
       "    <tr>\n",
       "      <th>46</th>\n",
       "      <td>2018-03-01</td>\n",
       "      <td>Avon and Somerset Constabulary</td>\n",
       "      <td>Avon and Somerset Constabulary</td>\n",
       "      <td>-3.096854</td>\n",
       "      <td>51.013689</td>\n",
       "      <td>On or near SILVER STREET</td>\n",
       "      <td>E01029301</td>\n",
       "      <td>Taunton Deane 010D</td>\n",
       "      <td>0</td>\n",
       "      <td>3.0</td>\n",
       "      <td>2018</td>\n",
       "      <td>False</td>\n",
       "    </tr>\n",
       "    <tr>\n",
       "      <th>57</th>\n",
       "      <td>2018-03-01</td>\n",
       "      <td>Avon and Somerset Constabulary</td>\n",
       "      <td>Avon and Somerset Constabulary</td>\n",
       "      <td>-2.478811</td>\n",
       "      <td>51.413145</td>\n",
       "      <td>On or near ASHMEAD ROAD</td>\n",
       "      <td>E01014398</td>\n",
       "      <td>Bath and North East Somerset 003D</td>\n",
       "      <td>1</td>\n",
       "      <td>3.0</td>\n",
       "      <td>2018</td>\n",
       "      <td>False</td>\n",
       "    </tr>\n",
       "    <tr>\n",
       "      <th>58</th>\n",
       "      <td>2018-03-01</td>\n",
       "      <td>Avon and Somerset Constabulary</td>\n",
       "      <td>Avon and Somerset Constabulary</td>\n",
       "      <td>-2.676505</td>\n",
       "      <td>51.488860</td>\n",
       "      <td>On or near PEMBROKE ROAD</td>\n",
       "      <td>E01014495</td>\n",
       "      <td>Bristol 008D</td>\n",
       "      <td>0</td>\n",
       "      <td>3.0</td>\n",
       "      <td>2018</td>\n",
       "      <td>False</td>\n",
       "    </tr>\n",
       "    <tr>\n",
       "      <th>69</th>\n",
       "      <td>2018-03-01</td>\n",
       "      <td>Avon and Somerset Constabulary</td>\n",
       "      <td>Avon and Somerset Constabulary</td>\n",
       "      <td>-2.477411</td>\n",
       "      <td>51.460977</td>\n",
       "      <td>On or near CHAPEL LANE</td>\n",
       "      <td>E01033339</td>\n",
       "      <td>South Gloucestershire 019G</td>\n",
       "      <td>1</td>\n",
       "      <td>3.0</td>\n",
       "      <td>2018</td>\n",
       "      <td>False</td>\n",
       "    </tr>\n",
       "  </tbody>\n",
       "</table>\n",
       "</div>"
      ],
      "text/plain": [
       "        Month                      Reportedby                     Fallswithin  \\\n",
       "0  2018-03-01  Avon and Somerset Constabulary  Avon and Somerset Constabulary   \n",
       "1  2018-03-01  Avon and Somerset Constabulary  Avon and Somerset Constabulary   \n",
       "2  2018-03-01  Avon and Somerset Constabulary  Avon and Somerset Constabulary   \n",
       "8  2018-03-01  Avon and Somerset Constabulary  Avon and Somerset Constabulary   \n",
       "22 2018-03-01  Avon and Somerset Constabulary  Avon and Somerset Constabulary   \n",
       "36 2018-03-01  Avon and Somerset Constabulary  Avon and Somerset Constabulary   \n",
       "46 2018-03-01  Avon and Somerset Constabulary  Avon and Somerset Constabulary   \n",
       "57 2018-03-01  Avon and Somerset Constabulary  Avon and Somerset Constabulary   \n",
       "58 2018-03-01  Avon and Somerset Constabulary  Avon and Somerset Constabulary   \n",
       "69 2018-03-01  Avon and Somerset Constabulary  Avon and Somerset Constabulary   \n",
       "\n",
       "    Longitude   Latitude                    Location   LSOAcode  \\\n",
       "0   -2.502684  51.446260    On or near SKIPPON COURT  E01014920   \n",
       "1   -2.502684  51.446260    On or near SKIPPON COURT  E01014920   \n",
       "2   -2.598622  51.493833  On or near CHERINGTON ROAD  E01014633   \n",
       "8   -2.893176  50.854161      On or near BAKERSFIELD  E01029230   \n",
       "22  -2.498926  51.472468      On or near SWEETS ROAD  E01014956   \n",
       "36  -2.744599  50.947449     On or near Parking Area  E01029191   \n",
       "46  -3.096854  51.013689    On or near SILVER STREET  E01029301   \n",
       "57  -2.478811  51.413145     On or near ASHMEAD ROAD  E01014398   \n",
       "58  -2.676505  51.488860    On or near PEMBROKE ROAD  E01014495   \n",
       "69  -2.477411  51.460977      On or near CHAPEL LANE  E01033339   \n",
       "\n",
       "                             LSOAname  Outcometype  mon  Year  Block  \n",
       "0          South Gloucestershire 031E            0  3.0  2018  False  \n",
       "1          South Gloucestershire 031E            1  3.0  2018  False  \n",
       "2                        Bristol 004C            0  3.0  2018  False  \n",
       "8                 South Somerset 024D            0  3.0  2018  False  \n",
       "22         South Gloucestershire 025B            0  3.0  2018  False  \n",
       "36                South Somerset 017C            0  3.0  2018  False  \n",
       "46                 Taunton Deane 010D            0  3.0  2018  False  \n",
       "57  Bath and North East Somerset 003D            1  3.0  2018  False  \n",
       "58                       Bristol 008D            0  3.0  2018  False  \n",
       "69         South Gloucestershire 019G            1  3.0  2018  False  "
      ]
     },
     "execution_count": 37,
     "metadata": {},
     "output_type": "execute_result"
    }
   ],
   "source": [
    "df2.head(10)"
   ]
  },
  {
   "cell_type": "code",
   "execution_count": 38,
   "metadata": {},
   "outputs": [],
   "source": [
    "#creating new column\n",
    "df2['n_days'] = (df2['Month'] - df2['Month'].min()).apply(lambda x: x.days)"
   ]
  },
  {
   "cell_type": "code",
   "execution_count": 39,
   "metadata": {},
   "outputs": [
    {
     "data": {
      "text/html": [
       "<div>\n",
       "<style scoped>\n",
       "    .dataframe tbody tr th:only-of-type {\n",
       "        vertical-align: middle;\n",
       "    }\n",
       "\n",
       "    .dataframe tbody tr th {\n",
       "        vertical-align: top;\n",
       "    }\n",
       "\n",
       "    .dataframe thead th {\n",
       "        text-align: right;\n",
       "    }\n",
       "</style>\n",
       "<table border=\"1\" class=\"dataframe\">\n",
       "  <thead>\n",
       "    <tr style=\"text-align: right;\">\n",
       "      <th></th>\n",
       "      <th>Month</th>\n",
       "      <th>Reportedby</th>\n",
       "      <th>Fallswithin</th>\n",
       "      <th>Longitude</th>\n",
       "      <th>Latitude</th>\n",
       "      <th>Location</th>\n",
       "      <th>LSOAcode</th>\n",
       "      <th>LSOAname</th>\n",
       "      <th>Outcometype</th>\n",
       "      <th>mon</th>\n",
       "      <th>Year</th>\n",
       "      <th>Block</th>\n",
       "      <th>n_days</th>\n",
       "    </tr>\n",
       "  </thead>\n",
       "  <tbody>\n",
       "    <tr>\n",
       "      <th>0</th>\n",
       "      <td>2018-03-01</td>\n",
       "      <td>Avon and Somerset Constabulary</td>\n",
       "      <td>Avon and Somerset Constabulary</td>\n",
       "      <td>-2.502684</td>\n",
       "      <td>51.446260</td>\n",
       "      <td>On or near SKIPPON COURT</td>\n",
       "      <td>E01014920</td>\n",
       "      <td>South Gloucestershire 031E</td>\n",
       "      <td>0</td>\n",
       "      <td>3.0</td>\n",
       "      <td>2018</td>\n",
       "      <td>False</td>\n",
       "      <td>0</td>\n",
       "    </tr>\n",
       "    <tr>\n",
       "      <th>1</th>\n",
       "      <td>2018-03-01</td>\n",
       "      <td>Avon and Somerset Constabulary</td>\n",
       "      <td>Avon and Somerset Constabulary</td>\n",
       "      <td>-2.502684</td>\n",
       "      <td>51.446260</td>\n",
       "      <td>On or near SKIPPON COURT</td>\n",
       "      <td>E01014920</td>\n",
       "      <td>South Gloucestershire 031E</td>\n",
       "      <td>1</td>\n",
       "      <td>3.0</td>\n",
       "      <td>2018</td>\n",
       "      <td>False</td>\n",
       "      <td>0</td>\n",
       "    </tr>\n",
       "    <tr>\n",
       "      <th>2</th>\n",
       "      <td>2018-03-01</td>\n",
       "      <td>Avon and Somerset Constabulary</td>\n",
       "      <td>Avon and Somerset Constabulary</td>\n",
       "      <td>-2.598622</td>\n",
       "      <td>51.493833</td>\n",
       "      <td>On or near CHERINGTON ROAD</td>\n",
       "      <td>E01014633</td>\n",
       "      <td>Bristol 004C</td>\n",
       "      <td>0</td>\n",
       "      <td>3.0</td>\n",
       "      <td>2018</td>\n",
       "      <td>False</td>\n",
       "      <td>0</td>\n",
       "    </tr>\n",
       "    <tr>\n",
       "      <th>8</th>\n",
       "      <td>2018-03-01</td>\n",
       "      <td>Avon and Somerset Constabulary</td>\n",
       "      <td>Avon and Somerset Constabulary</td>\n",
       "      <td>-2.893176</td>\n",
       "      <td>50.854161</td>\n",
       "      <td>On or near BAKERSFIELD</td>\n",
       "      <td>E01029230</td>\n",
       "      <td>South Somerset 024D</td>\n",
       "      <td>0</td>\n",
       "      <td>3.0</td>\n",
       "      <td>2018</td>\n",
       "      <td>False</td>\n",
       "      <td>0</td>\n",
       "    </tr>\n",
       "    <tr>\n",
       "      <th>22</th>\n",
       "      <td>2018-03-01</td>\n",
       "      <td>Avon and Somerset Constabulary</td>\n",
       "      <td>Avon and Somerset Constabulary</td>\n",
       "      <td>-2.498926</td>\n",
       "      <td>51.472468</td>\n",
       "      <td>On or near SWEETS ROAD</td>\n",
       "      <td>E01014956</td>\n",
       "      <td>South Gloucestershire 025B</td>\n",
       "      <td>0</td>\n",
       "      <td>3.0</td>\n",
       "      <td>2018</td>\n",
       "      <td>False</td>\n",
       "      <td>0</td>\n",
       "    </tr>\n",
       "  </tbody>\n",
       "</table>\n",
       "</div>"
      ],
      "text/plain": [
       "        Month                      Reportedby                     Fallswithin  \\\n",
       "0  2018-03-01  Avon and Somerset Constabulary  Avon and Somerset Constabulary   \n",
       "1  2018-03-01  Avon and Somerset Constabulary  Avon and Somerset Constabulary   \n",
       "2  2018-03-01  Avon and Somerset Constabulary  Avon and Somerset Constabulary   \n",
       "8  2018-03-01  Avon and Somerset Constabulary  Avon and Somerset Constabulary   \n",
       "22 2018-03-01  Avon and Somerset Constabulary  Avon and Somerset Constabulary   \n",
       "\n",
       "    Longitude   Latitude                    Location   LSOAcode  \\\n",
       "0   -2.502684  51.446260    On or near SKIPPON COURT  E01014920   \n",
       "1   -2.502684  51.446260    On or near SKIPPON COURT  E01014920   \n",
       "2   -2.598622  51.493833  On or near CHERINGTON ROAD  E01014633   \n",
       "8   -2.893176  50.854161      On or near BAKERSFIELD  E01029230   \n",
       "22  -2.498926  51.472468      On or near SWEETS ROAD  E01014956   \n",
       "\n",
       "                      LSOAname  Outcometype  mon  Year  Block  n_days  \n",
       "0   South Gloucestershire 031E            0  3.0  2018  False       0  \n",
       "1   South Gloucestershire 031E            1  3.0  2018  False       0  \n",
       "2                 Bristol 004C            0  3.0  2018  False       0  \n",
       "8          South Somerset 024D            0  3.0  2018  False       0  \n",
       "22  South Gloucestershire 025B            0  3.0  2018  False       0  "
      ]
     },
     "execution_count": 39,
     "metadata": {},
     "output_type": "execute_result"
    }
   ],
   "source": [
    "df2.head()"
   ]
  },
  {
   "cell_type": "code",
   "execution_count": 40,
   "metadata": {},
   "outputs": [],
   "source": [
    "#creating new columns samepolice\n",
    "df2['Samepolice'] = np.where(df2['Reportedby'] == df2['Fallswithin'], 1,0)"
   ]
  },
  {
   "cell_type": "code",
   "execution_count": 41,
   "metadata": {},
   "outputs": [
    {
     "data": {
      "text/html": [
       "<div>\n",
       "<style scoped>\n",
       "    .dataframe tbody tr th:only-of-type {\n",
       "        vertical-align: middle;\n",
       "    }\n",
       "\n",
       "    .dataframe tbody tr th {\n",
       "        vertical-align: top;\n",
       "    }\n",
       "\n",
       "    .dataframe thead th {\n",
       "        text-align: right;\n",
       "    }\n",
       "</style>\n",
       "<table border=\"1\" class=\"dataframe\">\n",
       "  <thead>\n",
       "    <tr style=\"text-align: right;\">\n",
       "      <th></th>\n",
       "      <th>Month</th>\n",
       "      <th>Reportedby</th>\n",
       "      <th>Fallswithin</th>\n",
       "      <th>Longitude</th>\n",
       "      <th>Latitude</th>\n",
       "      <th>Location</th>\n",
       "      <th>LSOAcode</th>\n",
       "      <th>LSOAname</th>\n",
       "      <th>Outcometype</th>\n",
       "      <th>mon</th>\n",
       "      <th>Year</th>\n",
       "      <th>Block</th>\n",
       "      <th>n_days</th>\n",
       "      <th>Samepolice</th>\n",
       "    </tr>\n",
       "  </thead>\n",
       "  <tbody>\n",
       "    <tr>\n",
       "      <th>0</th>\n",
       "      <td>2018-03-01</td>\n",
       "      <td>Avon and Somerset Constabulary</td>\n",
       "      <td>Avon and Somerset Constabulary</td>\n",
       "      <td>-2.502684</td>\n",
       "      <td>51.446260</td>\n",
       "      <td>On or near SKIPPON COURT</td>\n",
       "      <td>E01014920</td>\n",
       "      <td>South Gloucestershire 031E</td>\n",
       "      <td>0</td>\n",
       "      <td>3.0</td>\n",
       "      <td>2018</td>\n",
       "      <td>False</td>\n",
       "      <td>0</td>\n",
       "      <td>1</td>\n",
       "    </tr>\n",
       "    <tr>\n",
       "      <th>1</th>\n",
       "      <td>2018-03-01</td>\n",
       "      <td>Avon and Somerset Constabulary</td>\n",
       "      <td>Avon and Somerset Constabulary</td>\n",
       "      <td>-2.502684</td>\n",
       "      <td>51.446260</td>\n",
       "      <td>On or near SKIPPON COURT</td>\n",
       "      <td>E01014920</td>\n",
       "      <td>South Gloucestershire 031E</td>\n",
       "      <td>1</td>\n",
       "      <td>3.0</td>\n",
       "      <td>2018</td>\n",
       "      <td>False</td>\n",
       "      <td>0</td>\n",
       "      <td>1</td>\n",
       "    </tr>\n",
       "    <tr>\n",
       "      <th>2</th>\n",
       "      <td>2018-03-01</td>\n",
       "      <td>Avon and Somerset Constabulary</td>\n",
       "      <td>Avon and Somerset Constabulary</td>\n",
       "      <td>-2.598622</td>\n",
       "      <td>51.493833</td>\n",
       "      <td>On or near CHERINGTON ROAD</td>\n",
       "      <td>E01014633</td>\n",
       "      <td>Bristol 004C</td>\n",
       "      <td>0</td>\n",
       "      <td>3.0</td>\n",
       "      <td>2018</td>\n",
       "      <td>False</td>\n",
       "      <td>0</td>\n",
       "      <td>1</td>\n",
       "    </tr>\n",
       "    <tr>\n",
       "      <th>8</th>\n",
       "      <td>2018-03-01</td>\n",
       "      <td>Avon and Somerset Constabulary</td>\n",
       "      <td>Avon and Somerset Constabulary</td>\n",
       "      <td>-2.893176</td>\n",
       "      <td>50.854161</td>\n",
       "      <td>On or near BAKERSFIELD</td>\n",
       "      <td>E01029230</td>\n",
       "      <td>South Somerset 024D</td>\n",
       "      <td>0</td>\n",
       "      <td>3.0</td>\n",
       "      <td>2018</td>\n",
       "      <td>False</td>\n",
       "      <td>0</td>\n",
       "      <td>1</td>\n",
       "    </tr>\n",
       "    <tr>\n",
       "      <th>22</th>\n",
       "      <td>2018-03-01</td>\n",
       "      <td>Avon and Somerset Constabulary</td>\n",
       "      <td>Avon and Somerset Constabulary</td>\n",
       "      <td>-2.498926</td>\n",
       "      <td>51.472468</td>\n",
       "      <td>On or near SWEETS ROAD</td>\n",
       "      <td>E01014956</td>\n",
       "      <td>South Gloucestershire 025B</td>\n",
       "      <td>0</td>\n",
       "      <td>3.0</td>\n",
       "      <td>2018</td>\n",
       "      <td>False</td>\n",
       "      <td>0</td>\n",
       "      <td>1</td>\n",
       "    </tr>\n",
       "  </tbody>\n",
       "</table>\n",
       "</div>"
      ],
      "text/plain": [
       "        Month                      Reportedby                     Fallswithin  \\\n",
       "0  2018-03-01  Avon and Somerset Constabulary  Avon and Somerset Constabulary   \n",
       "1  2018-03-01  Avon and Somerset Constabulary  Avon and Somerset Constabulary   \n",
       "2  2018-03-01  Avon and Somerset Constabulary  Avon and Somerset Constabulary   \n",
       "8  2018-03-01  Avon and Somerset Constabulary  Avon and Somerset Constabulary   \n",
       "22 2018-03-01  Avon and Somerset Constabulary  Avon and Somerset Constabulary   \n",
       "\n",
       "    Longitude   Latitude                    Location   LSOAcode  \\\n",
       "0   -2.502684  51.446260    On or near SKIPPON COURT  E01014920   \n",
       "1   -2.502684  51.446260    On or near SKIPPON COURT  E01014920   \n",
       "2   -2.598622  51.493833  On or near CHERINGTON ROAD  E01014633   \n",
       "8   -2.893176  50.854161      On or near BAKERSFIELD  E01029230   \n",
       "22  -2.498926  51.472468      On or near SWEETS ROAD  E01014956   \n",
       "\n",
       "                      LSOAname  Outcometype  mon  Year  Block  n_days  \\\n",
       "0   South Gloucestershire 031E            0  3.0  2018  False       0   \n",
       "1   South Gloucestershire 031E            1  3.0  2018  False       0   \n",
       "2                 Bristol 004C            0  3.0  2018  False       0   \n",
       "8          South Somerset 024D            0  3.0  2018  False       0   \n",
       "22  South Gloucestershire 025B            0  3.0  2018  False       0   \n",
       "\n",
       "    Samepolice  \n",
       "0            1  \n",
       "1            1  \n",
       "2            1  \n",
       "8            1  \n",
       "22           1  "
      ]
     },
     "execution_count": 41,
     "metadata": {},
     "output_type": "execute_result"
    }
   ],
   "source": [
    "df2.head()"
   ]
  },
  {
   "cell_type": "code",
   "execution_count": 42,
   "metadata": {},
   "outputs": [
    {
     "data": {
      "text/plain": [
       "214     284354\n",
       "306     270464\n",
       "245     265138\n",
       "731     258552\n",
       "122     257453\n",
       "365     256502\n",
       "153     256070\n",
       "184     248930\n",
       "762     247667\n",
       "976     243324\n",
       "337     241505\n",
       "945     237071\n",
       "275     234470\n",
       "426     231701\n",
       "396     231132\n",
       "915     230145\n",
       "853     229152\n",
       "823     225681\n",
       "792     221528\n",
       "1037    219209\n",
       "92      219038\n",
       "457     218909\n",
       "671     218070\n",
       "579     217480\n",
       "61      215247\n",
       "884     214932\n",
       "487     213531\n",
       "610     210991\n",
       "549     207252\n",
       "518     202540\n",
       "1068    201935\n",
       "640     197797\n",
       "1006    197779\n",
       "702     196404\n",
       "31      195012\n",
       "0       140292\n",
       "Name: n_days, dtype: int64"
      ]
     },
     "execution_count": 42,
     "metadata": {},
     "output_type": "execute_result"
    }
   ],
   "source": [
    "df2.n_days.value_counts()"
   ]
  },
  {
   "cell_type": "code",
   "execution_count": 43,
   "metadata": {},
   "outputs": [],
   "source": [
    "df2['DayOfWeek'] = df2['Month'].dt.weekday"
   ]
  },
  {
   "cell_type": "code",
   "execution_count": 44,
   "metadata": {},
   "outputs": [],
   "source": [
    "df2['Day'] = df2['Month'].dt.day"
   ]
  },
  {
   "cell_type": "code",
   "execution_count": 45,
   "metadata": {},
   "outputs": [
    {
     "data": {
      "text/plain": [
       "False    8157090\n",
       "True         167\n",
       "Name: Block, dtype: int64"
      ]
     },
     "execution_count": 45,
     "metadata": {},
     "output_type": "execute_result"
    }
   ],
   "source": [
    "df2.Block.value_counts()"
   ]
  },
  {
   "cell_type": "code",
   "execution_count": 46,
   "metadata": {},
   "outputs": [],
   "source": [
    "#dropping unwanted data columns\n",
    "df2.drop(columns=['Month','Location','LSOAname','LSOAcode', 'Latitude' , 'Longitude' ], inplace=True)"
   ]
  },
  {
   "cell_type": "code",
   "execution_count": 47,
   "metadata": {},
   "outputs": [
    {
     "data": {
      "text/html": [
       "<div>\n",
       "<style scoped>\n",
       "    .dataframe tbody tr th:only-of-type {\n",
       "        vertical-align: middle;\n",
       "    }\n",
       "\n",
       "    .dataframe tbody tr th {\n",
       "        vertical-align: top;\n",
       "    }\n",
       "\n",
       "    .dataframe thead th {\n",
       "        text-align: right;\n",
       "    }\n",
       "</style>\n",
       "<table border=\"1\" class=\"dataframe\">\n",
       "  <thead>\n",
       "    <tr style=\"text-align: right;\">\n",
       "      <th></th>\n",
       "      <th>Reportedby</th>\n",
       "      <th>Fallswithin</th>\n",
       "      <th>Outcometype</th>\n",
       "      <th>mon</th>\n",
       "      <th>Year</th>\n",
       "      <th>Block</th>\n",
       "      <th>n_days</th>\n",
       "      <th>Samepolice</th>\n",
       "      <th>DayOfWeek</th>\n",
       "      <th>Day</th>\n",
       "    </tr>\n",
       "  </thead>\n",
       "  <tbody>\n",
       "    <tr>\n",
       "      <th>0</th>\n",
       "      <td>Avon and Somerset Constabulary</td>\n",
       "      <td>Avon and Somerset Constabulary</td>\n",
       "      <td>0</td>\n",
       "      <td>3.0</td>\n",
       "      <td>2018</td>\n",
       "      <td>False</td>\n",
       "      <td>0</td>\n",
       "      <td>1</td>\n",
       "      <td>3</td>\n",
       "      <td>1</td>\n",
       "    </tr>\n",
       "    <tr>\n",
       "      <th>1</th>\n",
       "      <td>Avon and Somerset Constabulary</td>\n",
       "      <td>Avon and Somerset Constabulary</td>\n",
       "      <td>1</td>\n",
       "      <td>3.0</td>\n",
       "      <td>2018</td>\n",
       "      <td>False</td>\n",
       "      <td>0</td>\n",
       "      <td>1</td>\n",
       "      <td>3</td>\n",
       "      <td>1</td>\n",
       "    </tr>\n",
       "    <tr>\n",
       "      <th>2</th>\n",
       "      <td>Avon and Somerset Constabulary</td>\n",
       "      <td>Avon and Somerset Constabulary</td>\n",
       "      <td>0</td>\n",
       "      <td>3.0</td>\n",
       "      <td>2018</td>\n",
       "      <td>False</td>\n",
       "      <td>0</td>\n",
       "      <td>1</td>\n",
       "      <td>3</td>\n",
       "      <td>1</td>\n",
       "    </tr>\n",
       "    <tr>\n",
       "      <th>8</th>\n",
       "      <td>Avon and Somerset Constabulary</td>\n",
       "      <td>Avon and Somerset Constabulary</td>\n",
       "      <td>0</td>\n",
       "      <td>3.0</td>\n",
       "      <td>2018</td>\n",
       "      <td>False</td>\n",
       "      <td>0</td>\n",
       "      <td>1</td>\n",
       "      <td>3</td>\n",
       "      <td>1</td>\n",
       "    </tr>\n",
       "    <tr>\n",
       "      <th>22</th>\n",
       "      <td>Avon and Somerset Constabulary</td>\n",
       "      <td>Avon and Somerset Constabulary</td>\n",
       "      <td>0</td>\n",
       "      <td>3.0</td>\n",
       "      <td>2018</td>\n",
       "      <td>False</td>\n",
       "      <td>0</td>\n",
       "      <td>1</td>\n",
       "      <td>3</td>\n",
       "      <td>1</td>\n",
       "    </tr>\n",
       "  </tbody>\n",
       "</table>\n",
       "</div>"
      ],
      "text/plain": [
       "                        Reportedby                     Fallswithin  \\\n",
       "0   Avon and Somerset Constabulary  Avon and Somerset Constabulary   \n",
       "1   Avon and Somerset Constabulary  Avon and Somerset Constabulary   \n",
       "2   Avon and Somerset Constabulary  Avon and Somerset Constabulary   \n",
       "8   Avon and Somerset Constabulary  Avon and Somerset Constabulary   \n",
       "22  Avon and Somerset Constabulary  Avon and Somerset Constabulary   \n",
       "\n",
       "    Outcometype  mon  Year  Block  n_days  Samepolice  DayOfWeek  Day  \n",
       "0             0  3.0  2018  False       0           1          3    1  \n",
       "1             1  3.0  2018  False       0           1          3    1  \n",
       "2             0  3.0  2018  False       0           1          3    1  \n",
       "8             0  3.0  2018  False       0           1          3    1  \n",
       "22            0  3.0  2018  False       0           1          3    1  "
      ]
     },
     "execution_count": 47,
     "metadata": {},
     "output_type": "execute_result"
    }
   ],
   "source": [
    "df2.head()"
   ]
  },
  {
   "cell_type": "code",
   "execution_count": 48,
   "metadata": {},
   "outputs": [],
   "source": [
    "le1 = LabelEncoder()"
   ]
  },
  {
   "cell_type": "code",
   "execution_count": 49,
   "metadata": {},
   "outputs": [],
   "source": [
    "#transforming data using label encoder\n",
    "df2['Reportedby'] = le1.fit_transform(df2['Reportedby'])\n",
    "df2['Fallswithin'] = le1.fit_transform(df2['Fallswithin'])\n",
    "df2['Block'] = le1.fit_transform(df2['Block'])\n"
   ]
  },
  {
   "cell_type": "code",
   "execution_count": 50,
   "metadata": {},
   "outputs": [
    {
     "data": {
      "text/html": [
       "<div>\n",
       "<style scoped>\n",
       "    .dataframe tbody tr th:only-of-type {\n",
       "        vertical-align: middle;\n",
       "    }\n",
       "\n",
       "    .dataframe tbody tr th {\n",
       "        vertical-align: top;\n",
       "    }\n",
       "\n",
       "    .dataframe thead th {\n",
       "        text-align: right;\n",
       "    }\n",
       "</style>\n",
       "<table border=\"1\" class=\"dataframe\">\n",
       "  <thead>\n",
       "    <tr style=\"text-align: right;\">\n",
       "      <th></th>\n",
       "      <th>Reportedby</th>\n",
       "      <th>Fallswithin</th>\n",
       "      <th>Outcometype</th>\n",
       "      <th>mon</th>\n",
       "      <th>Year</th>\n",
       "      <th>Block</th>\n",
       "      <th>n_days</th>\n",
       "      <th>Samepolice</th>\n",
       "      <th>DayOfWeek</th>\n",
       "      <th>Day</th>\n",
       "    </tr>\n",
       "  </thead>\n",
       "  <tbody>\n",
       "    <tr>\n",
       "      <th>0</th>\n",
       "      <td>0</td>\n",
       "      <td>0</td>\n",
       "      <td>0</td>\n",
       "      <td>3.0</td>\n",
       "      <td>2018</td>\n",
       "      <td>0</td>\n",
       "      <td>0</td>\n",
       "      <td>1</td>\n",
       "      <td>3</td>\n",
       "      <td>1</td>\n",
       "    </tr>\n",
       "    <tr>\n",
       "      <th>1</th>\n",
       "      <td>0</td>\n",
       "      <td>0</td>\n",
       "      <td>1</td>\n",
       "      <td>3.0</td>\n",
       "      <td>2018</td>\n",
       "      <td>0</td>\n",
       "      <td>0</td>\n",
       "      <td>1</td>\n",
       "      <td>3</td>\n",
       "      <td>1</td>\n",
       "    </tr>\n",
       "    <tr>\n",
       "      <th>2</th>\n",
       "      <td>0</td>\n",
       "      <td>0</td>\n",
       "      <td>0</td>\n",
       "      <td>3.0</td>\n",
       "      <td>2018</td>\n",
       "      <td>0</td>\n",
       "      <td>0</td>\n",
       "      <td>1</td>\n",
       "      <td>3</td>\n",
       "      <td>1</td>\n",
       "    </tr>\n",
       "    <tr>\n",
       "      <th>8</th>\n",
       "      <td>0</td>\n",
       "      <td>0</td>\n",
       "      <td>0</td>\n",
       "      <td>3.0</td>\n",
       "      <td>2018</td>\n",
       "      <td>0</td>\n",
       "      <td>0</td>\n",
       "      <td>1</td>\n",
       "      <td>3</td>\n",
       "      <td>1</td>\n",
       "    </tr>\n",
       "    <tr>\n",
       "      <th>22</th>\n",
       "      <td>0</td>\n",
       "      <td>0</td>\n",
       "      <td>0</td>\n",
       "      <td>3.0</td>\n",
       "      <td>2018</td>\n",
       "      <td>0</td>\n",
       "      <td>0</td>\n",
       "      <td>1</td>\n",
       "      <td>3</td>\n",
       "      <td>1</td>\n",
       "    </tr>\n",
       "  </tbody>\n",
       "</table>\n",
       "</div>"
      ],
      "text/plain": [
       "    Reportedby  Fallswithin  Outcometype  mon  Year  Block  n_days  \\\n",
       "0            0            0            0  3.0  2018      0       0   \n",
       "1            0            0            1  3.0  2018      0       0   \n",
       "2            0            0            0  3.0  2018      0       0   \n",
       "8            0            0            0  3.0  2018      0       0   \n",
       "22           0            0            0  3.0  2018      0       0   \n",
       "\n",
       "    Samepolice  DayOfWeek  Day  \n",
       "0            1          3    1  \n",
       "1            1          3    1  \n",
       "2            1          3    1  \n",
       "8            1          3    1  \n",
       "22           1          3    1  "
      ]
     },
     "execution_count": 50,
     "metadata": {},
     "output_type": "execute_result"
    }
   ],
   "source": [
    "#Saving a copy of data before splitting\n",
    "df3 = df2.copy(deep = True)\n",
    "df3.head()"
   ]
  },
  {
   "cell_type": "code",
   "execution_count": 51,
   "metadata": {},
   "outputs": [],
   "source": [
    "# df2 = df3.copy()\n",
    "# df3.head()"
   ]
  },
  {
   "cell_type": "code",
   "execution_count": 52,
   "metadata": {},
   "outputs": [],
   "source": [
    "df2.head(10)\n",
    "# le2 = LabelEncoder()\n",
    "y = df2.pop('Outcometype')"
   ]
  },
  {
   "cell_type": "code",
   "execution_count": 53,
   "metadata": {},
   "outputs": [
    {
     "data": {
      "text/plain": [
       "0     0\n",
       "1     1\n",
       "2     0\n",
       "8     0\n",
       "22    0\n",
       "Name: Outcometype, dtype: int64"
      ]
     },
     "execution_count": 53,
     "metadata": {},
     "output_type": "execute_result"
    }
   ],
   "source": [
    "df2.head()\n",
    "y[:5]"
   ]
  },
  {
   "cell_type": "code",
   "execution_count": 54,
   "metadata": {},
   "outputs": [],
   "source": [
    "#splitting dataset\n",
    "X_train, X_test, y_train, y_test = train_test_split(df2, y, test_size=0.2, random_state=10)\n"
   ]
  },
  {
   "cell_type": "code",
   "execution_count": null,
   "metadata": {},
   "outputs": [],
   "source": [
    "#runnning every model 1 by 1 and cehck the outputs"
   ]
  },
  {
   "cell_type": "code",
   "execution_count": 54,
   "metadata": {},
   "outputs": [],
   "source": [
    "pipeline = Pipeline([\n",
    "    ('normalizer', StandardScaler()), #Step1 - normalize data\n",
    "    ('clf', LogisticRegression()) #step2 - classifier\n",
    "])\n"
   ]
  },
  {
   "cell_type": "code",
   "execution_count": 55,
   "metadata": {},
   "outputs": [
    {
     "data": {
      "text/plain": [
       "{'fit_time': array([9.4090209 , 8.70100665, 8.56100225]),\n",
       " 'score_time': array([0.51500821, 0.47698808, 0.51100349]),\n",
       " 'test_score': array([0.8321472 , 0.83214758, 0.83214758])}"
      ]
     },
     "execution_count": 55,
     "metadata": {},
     "output_type": "execute_result"
    }
   ],
   "source": [
    "\n",
    "\n",
    "scores = cross_validate(pipeline, X_train, y_train)\n",
    "scores"
   ]
  },
  {
   "cell_type": "code",
   "execution_count": 56,
   "metadata": {},
   "outputs": [
    {
     "data": {
      "text/plain": [
       "0.8321474515405004"
      ]
     },
     "execution_count": 56,
     "metadata": {},
     "output_type": "execute_result"
    }
   ],
   "source": [
    "scores['test_score'].mean()"
   ]
  },
  {
   "cell_type": "code",
   "execution_count": 60,
   "metadata": {},
   "outputs": [],
   "source": [
    "pipeline = Pipeline([\n",
    "    ('normalizer', StandardScaler()), #Step1 - normalize data\n",
    "    ('clf', KNeighborsClassifier(n_neighbors=3)) #step2 - classifier\n",
    "])"
   ]
  },
  {
   "cell_type": "code",
   "execution_count": null,
   "metadata": {},
   "outputs": [],
   "source": [
    "scores = cross_validate(pipeline, X_train, y_train)\n",
    "scores"
   ]
  },
  {
   "cell_type": "code",
   "execution_count": null,
   "metadata": {},
   "outputs": [],
   "source": [
    "scores['test_score'].mean()"
   ]
  },
  {
   "cell_type": "code",
   "execution_count": 58,
   "metadata": {},
   "outputs": [],
   "source": [
    "pipeline = Pipeline([\n",
    "    ('normalizer', StandardScaler()), #Step1 - normalize data\n",
    "    ('clf', DecisionTreeClassifier()) #step2 - classifier\n",
    "])"
   ]
  },
  {
   "cell_type": "code",
   "execution_count": 59,
   "metadata": {},
   "outputs": [
    {
     "data": {
      "text/plain": [
       "{'fit_time': array([31.36967993, 31.06199884, 29.87000036]),\n",
       " 'score_time': array([0.74499989, 0.74299836, 0.73400021]),\n",
       " 'test_score': array([0.83893486, 0.838881  , 0.83883319])}"
      ]
     },
     "execution_count": 59,
     "metadata": {},
     "output_type": "execute_result"
    }
   ],
   "source": [
    "scores = cross_validate(pipeline, X_train, y_train)\n",
    "scores"
   ]
  },
  {
   "cell_type": "code",
   "execution_count": 60,
   "metadata": {},
   "outputs": [
    {
     "data": {
      "text/plain": [
       "0.8388830190218917"
      ]
     },
     "execution_count": 60,
     "metadata": {},
     "output_type": "execute_result"
    }
   ],
   "source": [
    "scores['test_score'].mean()"
   ]
  },
  {
   "cell_type": "code",
   "execution_count": 61,
   "metadata": {},
   "outputs": [],
   "source": [
    "pipeline = Pipeline([\n",
    "    ('normalizer', StandardScaler()), #Step1 - normalize data\n",
    "    ('clf', RandomForestClassifier()) #step2 - classifier\n",
    "])"
   ]
  },
  {
   "cell_type": "code",
   "execution_count": 62,
   "metadata": {},
   "outputs": [
    {
     "data": {
      "text/plain": [
       "{'fit_time': array([120.08599782, 114.92930532, 118.46599245]),\n",
       " 'score_time': array([3.93299961, 3.97797728, 3.93100405]),\n",
       " 'test_score': array([0.83893532, 0.838881  , 0.83883365])}"
      ]
     },
     "execution_count": 62,
     "metadata": {},
     "output_type": "execute_result"
    }
   ],
   "source": [
    "scores = cross_validate(pipeline, X_train, y_train)\n",
    "scores"
   ]
  },
  {
   "cell_type": "code",
   "execution_count": 63,
   "metadata": {},
   "outputs": [
    {
     "data": {
      "text/plain": [
       "0.8388833254974678"
      ]
     },
     "execution_count": 63,
     "metadata": {},
     "output_type": "execute_result"
    }
   ],
   "source": [
    "scores['test_score'].mean()"
   ]
  },
  {
   "cell_type": "code",
   "execution_count": 64,
   "metadata": {},
   "outputs": [],
   "source": [
    "pipeline = Pipeline([\n",
    "    ('normalizer', StandardScaler()), #Step1 - normalize data\n",
    "    ('clf', GradientBoostingClassifier()) #step2 - classifier\n",
    "])"
   ]
  },
  {
   "cell_type": "code",
   "execution_count": null,
   "metadata": {},
   "outputs": [],
   "source": [
    "scores = cross_validate(pipeline, X_train, y_train)\n",
    "scores"
   ]
  },
  {
   "cell_type": "code",
   "execution_count": null,
   "metadata": {},
   "outputs": [],
   "source": [
    "scores['test_score'].mean()"
   ]
  },
  {
   "cell_type": "code",
   "execution_count": 57,
   "metadata": {},
   "outputs": [],
   "source": [
    "pipeline = Pipeline([\n",
    "    ('normalizer', StandardScaler()), #Step1 - normalize data\n",
    "    ('clf', LGBMClassifier()) #step2 - classifier\n",
    "])"
   ]
  },
  {
   "cell_type": "code",
   "execution_count": 58,
   "metadata": {},
   "outputs": [
    {
     "data": {
      "text/plain": [
       "{'fit_time': array([18.53575754, 15.61999607, 16.78067994]),\n",
       " 'score_time': array([2.22600412, 2.21000361, 2.22300124]),\n",
       " 'test_score': array([0.83893486, 0.83888192, 0.83883595])}"
      ]
     },
     "execution_count": 58,
     "metadata": {},
     "output_type": "execute_result"
    }
   ],
   "source": [
    "scores = cross_validate(pipeline, X_train, y_train)\n",
    "scores"
   ]
  },
  {
   "cell_type": "code",
   "execution_count": 59,
   "metadata": {},
   "outputs": [
    {
     "data": {
      "text/plain": [
       "0.8388842449244779"
      ]
     },
     "execution_count": 59,
     "metadata": {},
     "output_type": "execute_result"
    }
   ],
   "source": [
    "scores['test_score'].mean()"
   ]
  },
  {
   "cell_type": "code",
   "execution_count": 60,
   "metadata": {},
   "outputs": [
    {
     "data": {
      "text/plain": [
       "[('normalizer', StandardScaler(copy=True, with_mean=True, with_std=True)),\n",
       " ('clf',\n",
       "  LGBMClassifier(boosting_type='gbdt', class_weight=None, colsample_bytree=1.0,\n",
       "                 importance_type='split', learning_rate=0.1, max_depth=-1,\n",
       "                 min_child_samples=20, min_child_weight=0.001, min_split_gain=0.0,\n",
       "                 n_estimators=100, n_jobs=-1, num_leaves=31, objective=None,\n",
       "                 random_state=None, reg_alpha=0.0, reg_lambda=0.0, silent=True,\n",
       "                 subsample=1.0, subsample_for_bin=200000, subsample_freq=0))]"
      ]
     },
     "execution_count": 60,
     "metadata": {},
     "output_type": "execute_result"
    }
   ],
   "source": [
    "from sklearn.model_selection import GridSearchCV\n",
    "pipeline.set_params(clf= LGBMClassifier())\n",
    "pipeline.steps"
   ]
  },
  {
   "cell_type": "code",
   "execution_count": 63,
   "metadata": {},
   "outputs": [
    {
     "name": "stdout",
     "output_type": "stream",
     "text": [
      "[LightGBM] [Warning] Unknown parameter: numclass\n",
      "[LightGBM] [Warning] boosting is set=gbdt, boosting_type=gbdt will be ignored. Current value: boosting=gbdt\n",
      "[LightGBM] [Warning] min_data_in_leaf is set=21, min_child_samples=20 will be ignored. Current value: min_data_in_leaf=21\n",
      "[LightGBM] [Warning] Unknown parameter: numclass\n",
      "[LightGBM] [Warning] boosting is set=gbdt, boosting_type=gbdt will be ignored. Current value: boosting=gbdt\n",
      "[LightGBM] [Warning] min_data_in_leaf is set=21, min_child_samples=20 will be ignored. Current value: min_data_in_leaf=21\n",
      "[LightGBM] [Warning] Unknown parameter: numclass\n",
      "[LightGBM] [Warning] boosting is set=gbdt, boosting_type=gbdt will be ignored. Current value: boosting=gbdt\n",
      "[LightGBM] [Warning] min_data_in_leaf is set=21, min_child_samples=20 will be ignored. Current value: min_data_in_leaf=21\n",
      "[LightGBM] [Warning] Unknown parameter: numclass\n",
      "[LightGBM] [Warning] boosting is set=gbdt, boosting_type=gbdt will be ignored. Current value: boosting=gbdt\n",
      "[LightGBM] [Warning] min_data_in_leaf is set=21, min_child_samples=20 will be ignored. Current value: min_data_in_leaf=21\n"
     ]
    },
    {
     "data": {
      "text/plain": [
       "GridSearchCV(cv='warn', error_score='raise-deprecating',\n",
       "             estimator=Pipeline(memory=None,\n",
       "                                steps=[('normalizer',\n",
       "                                        StandardScaler(copy=True,\n",
       "                                                       with_mean=True,\n",
       "                                                       with_std=True)),\n",
       "                                       ('clf',\n",
       "                                        LGBMClassifier(boosting_type='gbdt',\n",
       "                                                       class_weight=None,\n",
       "                                                       colsample_bytree=1.0,\n",
       "                                                       importance_type='split',\n",
       "                                                       learning_rate=0.1,\n",
       "                                                       max_depth=-1,\n",
       "                                                       min_child_samples=20,\n",
       "                                                       min_child_weight=0.001,\n",
       "                                                       min_sp...\n",
       "                                                       subsample_freq=0))],\n",
       "                                verbose=False),\n",
       "             iid='warn', n_jobs=None,\n",
       "             param_grid={'clf__boosting': ['gbdt'], 'clf__learning_rate': [0.4],\n",
       "                         'clf__max_bin': [465], 'clf__max_delta_step': [0.9],\n",
       "                         'clf__min_data_in_leaf': [21], 'clf__num_leaves': [41],\n",
       "                         'clf__numclass': [2], 'clf__objective': ['binary']},\n",
       "             pre_dispatch='2*n_jobs', refit=True, return_train_score=False,\n",
       "             scoring=None, verbose=0)"
      ]
     },
     "execution_count": 63,
     "metadata": {},
     "output_type": "execute_result"
    }
   ],
   "source": [
    "#hyper parameter tuning\n",
    "cv_grid = GridSearchCV(pipeline, param_grid = {\n",
    "    'clf__boosting' : ['gbdt'],\n",
    "    'clf__objective' : ['binary', 'multinomial'],\n",
    "    'clf__numclass' : [2] ,\n",
    "    'clf__max_delta_step':[0.9],\n",
    "    'clf__min_data_in_leaf': [21, 40],\n",
    "    'clf__learning_rate': [0.4 , 0.001, 0.001],\n",
    "    'clf__max_bin': [465],\n",
    "    'clf__num_leaves': [41]\n",
    "})\n",
    "\n",
    "cv_grid.fit(X_train, y_train)"
   ]
  },
  {
   "cell_type": "code",
   "execution_count": 64,
   "metadata": {},
   "outputs": [
    {
     "data": {
      "text/plain": [
       "{'clf__boosting': 'gbdt',\n",
       " 'clf__learning_rate': 0.4,\n",
       " 'clf__max_bin': 465,\n",
       " 'clf__max_delta_step': 0.9,\n",
       " 'clf__min_data_in_leaf': 21,\n",
       " 'clf__num_leaves': 41,\n",
       " 'clf__numclass': 2,\n",
       " 'clf__objective': 'binary'}"
      ]
     },
     "execution_count": 64,
     "metadata": {},
     "output_type": "execute_result"
    }
   ],
   "source": [
    "cv_grid.best_params_"
   ]
  },
  {
   "cell_type": "code",
   "execution_count": 65,
   "metadata": {},
   "outputs": [
    {
     "data": {
      "text/plain": [
       "Pipeline(memory=None,\n",
       "         steps=[('normalizer',\n",
       "                 StandardScaler(copy=True, with_mean=True, with_std=True)),\n",
       "                ('clf',\n",
       "                 LGBMClassifier(boosting='gbdt', boosting_type='gbdt',\n",
       "                                class_weight=None, colsample_bytree=1.0,\n",
       "                                importance_type='split', learning_rate=0.4,\n",
       "                                max_bin=465, max_delta_step=0.9, max_depth=-1,\n",
       "                                min_child_samples=20, min_child_weight=0.001,\n",
       "                                min_data_in_leaf=21, min_split_gain=0.0,\n",
       "                                n_estimators=100, n_jobs=-1, num_leaves=41,\n",
       "                                numclass=2, objective='binary',\n",
       "                                random_state=None, reg_alpha=0.0,\n",
       "                                reg_lambda=0.0, silent=True, subsample=1.0,\n",
       "                                subsample_for_bin=200000, subsample_freq=0))],\n",
       "         verbose=False)"
      ]
     },
     "execution_count": 65,
     "metadata": {},
     "output_type": "execute_result"
    }
   ],
   "source": [
    "cv_grid.best_estimator_"
   ]
  },
  {
   "cell_type": "code",
   "execution_count": 66,
   "metadata": {},
   "outputs": [
    {
     "data": {
      "text/plain": [
       "0.8388842449322345"
      ]
     },
     "execution_count": 66,
     "metadata": {},
     "output_type": "execute_result"
    }
   ],
   "source": [
    "cv_grid.best_score_"
   ]
  },
  {
   "cell_type": "code",
   "execution_count": 67,
   "metadata": {},
   "outputs": [
    {
     "name": "stdout",
     "output_type": "stream",
     "text": [
      "Accuracy of the best classifier after CV is 83.901%\n"
     ]
    }
   ],
   "source": [
    "y_predict = cv_grid.predict(X_test)\n",
    "accuracy = accuracy_score(y_test,y_predict)\n",
    "print('Accuracy of the best classifier after CV is %.3f%%' % (accuracy*100))"
   ]
  },
  {
   "cell_type": "code",
   "execution_count": 74,
   "metadata": {},
   "outputs": [],
   "source": [
    " from sklearn.metrics import confusion_matrix"
   ]
  },
  {
   "cell_type": "code",
   "execution_count": 76,
   "metadata": {},
   "outputs": [
    {
     "data": {
      "text/plain": [
       "array([[1356022,    1861],\n",
       "       [ 260780,   12789]], dtype=int64)"
      ]
     },
     "execution_count": 76,
     "metadata": {},
     "output_type": "execute_result"
    }
   ],
   "source": [
    "confusion_matrix(y_test, y_predict)"
   ]
  },
  {
   "cell_type": "code",
   "execution_count": 77,
   "metadata": {},
   "outputs": [
    {
     "data": {
      "image/png": "[encoded data removed]",
      "text/plain": [
       "<Figure size 432x288 with 1 Axes>"
      ]
     },
     "metadata": {
      "needs_background": "light"
     },
     "output_type": "display_data"
    }
   ],
   "source": [
    "import sklearn.metrics as metrics\n",
    "# calculate the fpr and tpr for all thresholds of the classification\n",
    "probs = cv_grid.predict_proba(X_test)\n",
    "preds = probs[:,1]\n",
    "fpr, tpr, threshold = metrics.roc_curve(y_test, preds)\n",
    "roc_auc = metrics.auc(fpr, tpr)\n",
    "\n",
    "# method I: plt\n",
    "import matplotlib.pyplot as plt\n",
    "plt.title('Receiver Operating Characteristic')\n",
    "plt.plot(fpr, tpr, 'b', label = 'AUC = %0.2f' % roc_auc)\n",
    "plt.legend(loc = 'lower right')\n",
    "plt.plot([0, 1], [0, 1],'r--')\n",
    "plt.xlim([0, 1])\n",
    "plt.ylim([0, 1])\n",
    "plt.ylabel('True Positive Rate')\n",
    "plt.xlabel('False Positive Rate')\n",
    "plt.show()"
   ]
  },
  {
   "cell_type": "code",
   "execution_count": 68,
   "metadata": {},
   "outputs": [],
   "source": []
  },
  {
   "cell_type": "code",
   "execution_count": null,
   "metadata": {},
   "outputs": [],
   "source": []
  }
 ],
 "metadata": {
  "kernelspec": {
   "display_name": "'Python Interactive'",
   "language": "python",
   "name": "06342f47-0c8d-482a-bba0-4dc41536b8ec"
  },
  "language_info": {
   "codemirror_mode": {
    "name": "ipython",
    "version": 3
   },
   "file_extension": ".py",
   "mimetype": "text/x-python",
   "name": "python",
   "nbconvert_exporter": "python",
   "pygments_lexer": "ipython3",
   "version": "3.7.5"
  }
 },
 "nbformat": 4,
 "nbformat_minor": 2
}

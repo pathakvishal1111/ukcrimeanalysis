{
 "cells": [
  {
   "cell_type": "code",
   "execution_count": null,
   "metadata": {},
   "outputs": [],
   "source": [
    "#importinglibraries\n",
    "import pandas as pd \n",
    "import numpy as np\n",
    "import matplotlib.pyplot as plt\n",
    "import plotly.graph_objects as go\n",
    "import plotly.express as px\n",
    "import pandas as pd\n",
    "from shapely.geometry import Point\n",
    "import geopandas as gpd\n",
    "from geopandas import GeoDataFrame"
   ]
  },
  {
   "cell_type": "code",
   "execution_count": null,
   "metadata": {},
   "outputs": [],
   "source": [
    "#loading data\n",
    "df = pd.read_csv(\"combinedpostcovid.csv\")\n",
    "df.head()"
   ]
  },
  {
   "cell_type": "code",
   "execution_count": null,
   "metadata": {},
   "outputs": [],
   "source": [
    "# removing rows having column names as data was merged with monthly basis\n",
    "df2 = df[df.Context != 'Context']"
   ]
  },
  {
   "cell_type": "code",
   "execution_count": null,
   "metadata": {},
   "outputs": [],
   "source": [
    "#cleaning data\n",
    "df['Longitude'].replace(to_replace=\"[a-zA-Z]\", value='',regex=True, inplace=True)\n",
    "df['Longitude'].replace(to_replace=\" \", value='',regex=True, inplace=True)\n",
    "df['Longitude'].replace(to_replace=\",\", value='.',regex=True, inplace=True)"
   ]
  },
  {
   "cell_type": "code",
   "execution_count": null,
   "metadata": {},
   "outputs": [],
   "source": [
    "df['Latitude'].replace(to_replace=\"[a-zA-Z]\", value='',regex=True, inplace=True)\n",
    "df['Latitude'].replace(to_replace=\" \", value='',regex=True, inplace=True)\n",
    "df['Latitude'].replace(to_replace=\",\", value='.',regex=True, inplace=True)"
   ]
  },
  {
   "cell_type": "code",
   "execution_count": null,
   "metadata": {},
   "outputs": [],
   "source": [
    "df2.shape[0] ,df2.shape[1]"
   ]
  },
  {
   "cell_type": "code",
   "execution_count": null,
   "metadata": {},
   "outputs": [],
   "source": [
    "df2.rename(columns = {'LSOA code' :'LSOAcode' , 'LSOA name' : 'LSOAname' , 'Crime type' :'Crimetype' ,'Falls within' : 'Fallswithin' ,'Reported by' : 'Reportedby','Crime ID': 'CrimeId','Last outcome category' : 'lastoutcomecat' }, inplace = True)"
   ]
  },
  {
   "cell_type": "code",
   "execution_count": null,
   "metadata": {},
   "outputs": [],
   "source": [
    "df2.Longitude = df2.Longitude.astype(float)\n",
    "df2.Latitude = df2.Latitude.astype(float)\n",
    "df2['Month'] = pd.to_datetime(df2.Month)"
   ]
  },
  {
   "cell_type": "code",
   "execution_count": null,
   "metadata": {},
   "outputs": [],
   "source": [
    "df2['Crimetype'] = df2.Crimetype.astype('category')\n",
    "df2['Reportedby'] = df2.Reportedby.astype('category')"
   ]
  },
  {
   "cell_type": "code",
   "execution_count": null,
   "metadata": {},
   "outputs": [],
   "source": [
    "df2.info()"
   ]
  },
  {
   "cell_type": "code",
   "execution_count": null,
   "metadata": {},
   "outputs": [],
   "source": [
    "df2['Reportedby'].value_counts()"
   ]
  },
  {
   "cell_type": "code",
   "execution_count": null,
   "metadata": {},
   "outputs": [],
   "source": [
    " df2.drop([ 'CrimeId '], axis=1 , inplace = True)\n",
    "#  df2.dropna(subset = [\"CrimeId \"], inplace=True)"
   ]
  },
  {
   "cell_type": "code",
   "execution_count": null,
   "metadata": {},
   "outputs": [],
   "source": [
    "df2.info()"
   ]
  },
  {
   "cell_type": "code",
   "execution_count": null,
   "metadata": {},
   "outputs": [],
   "source": [
    "#function for treemap\n",
    "def treemap(categories,title,path,values):\n",
    "    fig = px.treemap(categories, path=path, values=values, height=700,\n",
    "                 title=title, color_discrete_sequence = px.colors.sequential.RdBu)\n",
    "    fig.data[0].textinfo = 'label+text+value'\n",
    "    fig.show()"
   ]
  },
  {
   "cell_type": "code",
   "execution_count": null,
   "metadata": {},
   "outputs": [],
   "source": [
    "Number_crimes = df2['Crimetype'].value_counts()\n",
    "values = Number_crimes.values\n",
    "categories = pd.DataFrame(data=Number_crimes.index ,columns=[\"Crimetype\"])\n",
    "categories['values'] = values\n",
    "# categories.head(10)"
   ]
  },
  {
   "cell_type": "code",
   "execution_count": null,
   "metadata": {},
   "outputs": [],
   "source": [
    "#plottind data\n",
    "fig = treemap(categories,'Major Crime in UK After Pandemic',[categories.Crimetype] ,categories['values'])"
   ]
  },
  {
   "cell_type": "code",
   "execution_count": null,
   "metadata": {},
   "outputs": [],
   "source": [
    "#function for histogram\n",
    "def histogram(data,path,color,title,xaxis,yaxis):\n",
    "    fig = px.histogram(data, x=path,color=color)\n",
    "    fig.update_layout(\n",
    "        title_text=title,\n",
    "        xaxis_title_text=xaxis, \n",
    "        yaxis_title_text=yaxis, \n",
    "        bargap=0.2, \n",
    "        bargroupgap=0.1\n",
    "    )\n",
    "    fig.show()"
   ]
  },
  {
   "cell_type": "code",
   "execution_count": null,
   "metadata": {},
   "outputs": [],
   "source": [
    "df2.dropna( how='any',subset=['Crimetype'], inplace = True)"
   ]
  },
  {
   "cell_type": "code",
   "execution_count": null,
   "metadata": {},
   "outputs": [],
   "source": [
    "fig = px.histogram(df2, x=\"Crimetype\")\n",
    "fig.show()"
   ]
  },
  {
   "cell_type": "code",
   "execution_count": null,
   "metadata": {},
   "outputs": [],
   "source": [
    "df2['Crimetype'].value_counts()"
   ]
  },
  {
   "cell_type": "code",
   "execution_count": null,
   "metadata": {},
   "outputs": [],
   "source": [
    "#function for bar charts\n",
    "def bar(categories,x,y,color,title,xlab,ylab):\n",
    "    fig = px.bar(categories, x=x, y=y,\n",
    "             color=color,\n",
    "             height=400)\n",
    "    fig.update_layout(\n",
    "    title_text=title, \n",
    "    xaxis_title_text=xlab, \n",
    "    yaxis_title_text=ylab,\n",
    "    bargap=0.2, \n",
    "    bargroupgap=0.1\n",
    "    )\n",
    "    fig.show()\n"
   ]
  },
  {
   "cell_type": "code",
   "execution_count": null,
   "metadata": {},
   "outputs": [],
   "source": [
    "#inputting data\n",
    "bar(categories,categories['Crimetype'][0:5],categories['values'][0:5]\n",
    "    ,categories['Crimetype'][0:5],'Top 5 Major Crimes in UK','Crime','Count')"
   ]
  },
  {
   "cell_type": "code",
   "execution_count": null,
   "metadata": {},
   "outputs": [],
   "source": [
    "#converting new column month from data\n",
    "df2['mon'] = pd.DatetimeIndex(df2['Month']).month"
   ]
  },
  {
   "cell_type": "code",
   "execution_count": null,
   "metadata": {},
   "outputs": [],
   "source": [
    "df2['mon'] = df2.mon.astype('category')"
   ]
  },
  {
   "cell_type": "code",
   "execution_count": null,
   "metadata": {},
   "outputs": [],
   "source": [
    "Number_crimes_month = df2['mon'].value_counts()\n",
    "months = pd.DataFrame(data=Number_crimes_month.index, columns=[\"MONTH\"])\n",
    "months['values'] = Number_crimes_month.values"
   ]
  },
  {
   "cell_type": "code",
   "execution_count": null,
   "metadata": {},
   "outputs": [],
   "source": [
    "#bar charts function\n",
    "fig = go.Figure(go.Bar(\n",
    "            x=months['values'],\n",
    "            y=months['MONTH'],\n",
    "        marker=dict(\n",
    "            color='rgb(13,143,129)',\n",
    "\n",
    "        ),\n",
    "            orientation='h'))\n",
    "fig.update_layout(\n",
    "    title_text='Major Crimes in UK per month', \n",
    "    xaxis_title_text='Count',\n",
    "    yaxis_title_text='Month', \n",
    "    bargap=0.2, \n",
    "    bargroupgap=0.1\n",
    ")\n",
    "fig.show()"
   ]
  },
  {
   "cell_type": "code",
   "execution_count": null,
   "metadata": {},
   "outputs": [],
   "source": [
    "df2['Fallswithin'].value_counts()"
   ]
  },
  {
   "cell_type": "code",
   "execution_count": null,
   "metadata": {},
   "outputs": [],
   "source": [
    "Number_crimes_street = df2['Fallswithin'].value_counts()\n",
    "street = pd.DataFrame(data=Number_crimes_street.index, columns=[\"Fallswithin\"])\n",
    "street['values'] = Number_crimes_street.values"
   ]
  },
  {
   "cell_type": "code",
   "execution_count": null,
   "metadata": {},
   "outputs": [],
   "source": [
    "bar(street,street['Fallswithin'][0:10],street['values'][0:10]\n",
    "    ,street['Fallswithin'][0:10],'Top 10 Crime count on each Area','Street',' Crime Count')"
   ]
  }
 ],
 "metadata": {
  "kernelspec": {
   "display_name": "'Python Interactive'",
   "language": "python",
   "name": "06342f47-0c8d-482a-bba0-4dc41536b8ec"
  },
  "language_info": {
   "codemirror_mode": {
    "name": "ipython",
    "version": 3
   },
   "file_extension": ".py",
   "mimetype": "text/x-python",
   "name": "python",
   "nbconvert_exporter": "python",
   "pygments_lexer": "ipython3",
   "version": "3.7.5"
  }
 },
 "nbformat": 4,
 "nbformat_minor": 2
}
